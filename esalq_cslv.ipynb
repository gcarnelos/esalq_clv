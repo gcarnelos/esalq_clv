{
  "cells": [
    {
      "cell_type": "markdown",
      "metadata": {
        "id": "5P0KGpXg616Y"
      },
      "source": [
        "# Install Libaries"
      ]
    },
    {
      "cell_type": "code",
      "execution_count": null,
      "metadata": {
        "collapsed": true,
        "id": "H5ChRTfC6THK"
      },
      "outputs": [],
      "source": [
        "!pip install pymc-marketing\n",
        "!pip install lifetimes"
      ]
    },
    {
      "cell_type": "markdown",
      "metadata": {
        "id": "Vo0NlYil6yVO"
      },
      "source": [
        "# Import Lib"
      ]
    },
    {
      "cell_type": "code",
      "execution_count": 2,
      "metadata": {
        "id": "Yg98Mned5lPZ"
      },
      "outputs": [],
      "source": [
        "import numpy as np\n",
        "import pandas as pd\n",
        "import matplotlib.pyplot as plt\n",
        "import arviz as az\n",
        "from arviz.labels import MapLabeller\n",
        "from pymc_marketing import clv\n",
        "from sklearn.metrics import mean_absolute_error, mean_absolute_percentage_error"
      ]
    },
    {
      "cell_type": "markdown",
      "metadata": {
        "id": "eKTCkJvYHq2P"
      },
      "source": [
        "# Constants"
      ]
    },
    {
      "cell_type": "code",
      "execution_count": 3,
      "metadata": {
        "id": "0a70DMyQHsZ9"
      },
      "outputs": [],
      "source": [
        "data_path:str = \"http://archive.ics.uci.edu/ml/machine-learning-databases/00502/online_retail_II.xlsx\"\n",
        "observed_period:int = 373"
      ]
    },
    {
      "cell_type": "markdown",
      "metadata": {
        "id": "tGW2rURH6_vu"
      },
      "source": [
        "# Reads data\n",
        "\n",
        "UCI ML Repository - [Online Retail II](https://archive.ics.uci.edu/dataset/502/online+retail+ii)"
      ]
    },
    {
      "cell_type": "code",
      "execution_count": 4,
      "metadata": {
        "colab": {
          "base_uri": "https://localhost:8080/"
        },
        "id": "cfVPmnJ5IpzS",
        "outputId": "cc3ddf6c-0bd5-468f-f7bb-57682d20bbbd"
      },
      "outputs": [
        {
          "name": "stdout",
          "output_type": "stream",
          "text": [
            "<class 'pandas.core.frame.DataFrame'>\n",
            "RangeIndex: 525461 entries, 0 to 525460\n",
            "Data columns (total 8 columns):\n",
            " #   Column       Non-Null Count   Dtype         \n",
            "---  ------       --------------   -----         \n",
            " 0   Invoice      525461 non-null  object        \n",
            " 1   StockCode    525461 non-null  object        \n",
            " 2   Description  522533 non-null  object        \n",
            " 3   Quantity     525461 non-null  int64         \n",
            " 4   InvoiceDate  525461 non-null  datetime64[ns]\n",
            " 5   Price        525461 non-null  float64       \n",
            " 6   Customer_ID  417534 non-null  float64       \n",
            " 7   Country      525461 non-null  object        \n",
            "dtypes: datetime64[ns](1), float64(2), int64(1), object(4)\n",
            "memory usage: 32.1+ MB\n"
          ]
        }
      ],
      "source": [
        "# Reads data and rename colum id\n",
        "raw_data:pd.DataFrame = pd.read_excel(data_path)\n",
        "raw_data.rename({\"Customer ID\":\"Customer_ID\"}, axis=1, inplace=True)\n",
        "\n",
        "raw_data.info()"
      ]
    },
    {
      "cell_type": "markdown",
      "metadata": {
        "id": "kl8WA_e67oHI"
      },
      "source": [
        "# Transforms data"
      ]
    },
    {
      "cell_type": "markdown",
      "metadata": {
        "id": "xVcKYTQukAOk"
      },
      "source": [
        "## Clean database"
      ]
    },
    {
      "cell_type": "code",
      "execution_count": 5,
      "metadata": {
        "colab": {
          "base_uri": "https://localhost:8080/"
        },
        "id": "7K-tWCVIg8eP",
        "outputId": "3151c176-8baa-4d52-b32f-c6e2940744e4"
      },
      "outputs": [
        {
          "name": "stdout",
          "output_type": "stream",
          "text": [
            "<class 'pandas.core.frame.DataFrame'>\n",
            "Index: 407695 entries, 0 to 525460\n",
            "Data columns (total 8 columns):\n",
            " #   Column       Non-Null Count   Dtype         \n",
            "---  ------       --------------   -----         \n",
            " 0   Invoice      407695 non-null  object        \n",
            " 1   StockCode    407695 non-null  object        \n",
            " 2   Description  407695 non-null  object        \n",
            " 3   Quantity     407695 non-null  int64         \n",
            " 4   InvoiceDate  407695 non-null  datetime64[ns]\n",
            " 5   Price        407695 non-null  float64       \n",
            " 6   Customer_ID  407695 non-null  float64       \n",
            " 7   Country      407695 non-null  object        \n",
            "dtypes: datetime64[ns](1), float64(2), int64(1), object(4)\n",
            "memory usage: 28.0+ MB\n"
          ]
        }
      ],
      "source": [
        "# Select nan customer_id\n",
        "nan_customer_id:pd.DataFrame = raw_data[raw_data['Customer_ID'].isna()].index\n",
        "\n",
        "# Select cacelled oders\n",
        "cancelled_orders:pd.DataFrame= raw_data[\n",
        "    raw_data['Invoice'].astype(str).str.startswith(\"C\")\n",
        "].index\n",
        "\n",
        "# Union all rows to drop\n",
        "rows_to_drop = nan_customer_id.union(cancelled_orders)\n",
        "\n",
        "# Drop rows from database\n",
        "raw_data.drop(rows_to_drop, inplace=True)\n",
        "\n",
        "raw_data.info()"
      ]
    },
    {
      "cell_type": "markdown",
      "metadata": {
        "id": "VhQcjovU7umX"
      },
      "source": [
        "## RFM Matrix"
      ]
    },
    {
      "cell_type": "code",
      "execution_count": 6,
      "metadata": {
        "id": "1Vp0V6sFY1Ba"
      },
      "outputs": [],
      "source": [
        "# Creates date column\n",
        "raw_data['date'] = pd.to_datetime(raw_data['InvoiceDate'].dt.date)\n",
        "\n",
        "# Calculate RFM matrix\n",
        "rfm_data:pd.DataFrame = clv.utils.rfm_train_test_split(\n",
        "    transactions= raw_data,\n",
        "    customer_id_col= \"Customer_ID\",\n",
        "    datetime_col= \"date\",\n",
        "    monetary_value_col=\"Price\",\n",
        "    train_period_end= \"2010-11-30\",\n",
        "    test_period_end= \"2010-12-09\",\n",
        "    time_unit= \"D\"\n",
        ")"
      ]
    },
    {
      "cell_type": "code",
      "execution_count": 27,
      "metadata": {
        "colab": {
          "base_uri": "https://localhost:8080/",
          "height": 204
        },
        "collapsed": true,
        "id": "VzkEzpv8QbRj",
        "outputId": "47ca4949-58e9-4493-f7bf-6df8be2796e7"
      },
      "outputs": [
        {
          "data": {
            "application/vnd.google.colaboratory.intrinsic+json": {
              "summary": "{\n  \"name\": \"rfm_data\",\n  \"rows\": 4268,\n  \"fields\": [\n    {\n      \"column\": \"customer_id\",\n      \"properties\": {\n        \"dtype\": \"number\",\n        \"std\": 1698.2135805779883,\n        \"min\": 12346.0,\n        \"max\": 18287.0,\n        \"num_unique_values\": 4268,\n        \"samples\": [\n          14745.0,\n          14038.0,\n          12838.0\n        ],\n        \"semantic_type\": \"\",\n        \"description\": \"\"\n      }\n    },\n    {\n      \"column\": \"frequency\",\n      \"properties\": {\n        \"dtype\": \"number\",\n        \"std\": 5.813815140313254,\n        \"min\": 0.0,\n        \"max\": 122.0,\n        \"num_unique_values\": 52,\n        \"samples\": [\n          36.0,\n          38.0,\n          48.0\n        ],\n        \"semantic_type\": \"\",\n        \"description\": \"\"\n      }\n    },\n    {\n      \"column\": \"recency\",\n      \"properties\": {\n        \"dtype\": \"number\",\n        \"std\": 129.7226759067281,\n        \"min\": 0.0,\n        \"max\": 364.0,\n        \"num_unique_values\": 364,\n        \"samples\": [\n          364.0,\n          105.0,\n          112.0\n        ],\n        \"semantic_type\": \"\",\n        \"description\": \"\"\n      }\n    },\n    {\n      \"column\": \"T\",\n      \"properties\": {\n        \"dtype\": \"number\",\n        \"std\": 117.31091920478131,\n        \"min\": 0.0,\n        \"max\": 364.0,\n        \"num_unique_values\": 299,\n        \"samples\": [\n          0.0,\n          207.0,\n          88.0\n        ],\n        \"semantic_type\": \"\",\n        \"description\": \"\"\n      }\n    },\n    {\n      \"column\": \"monetary_value\",\n      \"properties\": {\n        \"dtype\": \"number\",\n        \"std\": 70.2352979579975,\n        \"min\": 0.0,\n        \"max\": 1915.3871428571426,\n        \"num_unique_values\": 2665,\n        \"samples\": [\n          111.57,\n          27.880000000000003,\n          31.415\n        ],\n        \"semantic_type\": \"\",\n        \"description\": \"\"\n      }\n    },\n    {\n      \"column\": \"test_frequency\",\n      \"properties\": {\n        \"dtype\": \"number\",\n        \"std\": 0.41795507694259615,\n        \"min\": 0.0,\n        \"max\": 7.0,\n        \"num_unique_values\": 7,\n        \"samples\": [\n          0.0,\n          1.0,\n          5.0\n        ],\n        \"semantic_type\": \"\",\n        \"description\": \"\"\n      }\n    },\n    {\n      \"column\": \"test_monetary_value\",\n      \"properties\": {\n        \"dtype\": \"number\",\n        \"std\": 31.617801200157718,\n        \"min\": 0.0,\n        \"max\": 588.115,\n        \"num_unique_values\": 509,\n        \"samples\": [\n          18.32,\n          38.46,\n          90.23\n        ],\n        \"semantic_type\": \"\",\n        \"description\": \"\"\n      }\n    },\n    {\n      \"column\": \"test_T\",\n      \"properties\": {\n        \"dtype\": \"number\",\n        \"std\": 0.0,\n        \"min\": 9.0,\n        \"max\": 9.0,\n        \"num_unique_values\": 1,\n        \"samples\": [\n          9.0\n        ],\n        \"semantic_type\": \"\",\n        \"description\": \"\"\n      }\n    },\n    {\n      \"column\": \"expected_purchases_mean\",\n      \"properties\": {\n        \"dtype\": \"number\",\n        \"std\": 0.12562028578476128,\n        \"min\": 0.017151921664818992,\n        \"max\": 2.574011623254604,\n        \"num_unique_values\": 3004,\n        \"samples\": [\n          0.14341620259113724\n        ],\n        \"semantic_type\": \"\",\n        \"description\": \"\"\n      }\n    },\n    {\n      \"column\": \"expected_spend\",\n      \"properties\": {\n        \"dtype\": \"number\",\n        \"std\": 29.748448000065345,\n        \"min\": 16.323886080987265,\n        \"max\": 1308.8503564887053,\n        \"num_unique_values\": 2692,\n        \"samples\": [\n          90.84337306854688\n        ],\n        \"semantic_type\": \"\",\n        \"description\": \"\"\n      }\n    },\n    {\n      \"column\": \"future_spend\",\n      \"properties\": {\n        \"dtype\": \"number\",\n        \"std\": 29.748448000065345,\n        \"min\": 16.323886080987265,\n        \"max\": 1308.8503564887053,\n        \"num_unique_values\": 2692,\n        \"samples\": [\n          90.84337306854688\n        ],\n        \"semantic_type\": \"\",\n        \"description\": \"\"\n      }\n    }\n  ]\n}",
              "type": "dataframe",
              "variable_name": "rfm_data"
            },
            "text/html": [
              "\n",
              "  <div id=\"df-cb2a2f52-27b6-475e-ae71-329b03af2179\" class=\"colab-df-container\">\n",
              "    <div>\n",
              "<style scoped>\n",
              "    .dataframe tbody tr th:only-of-type {\n",
              "        vertical-align: middle;\n",
              "    }\n",
              "\n",
              "    .dataframe tbody tr th {\n",
              "        vertical-align: top;\n",
              "    }\n",
              "\n",
              "    .dataframe thead th {\n",
              "        text-align: right;\n",
              "    }\n",
              "</style>\n",
              "<table border=\"1\" class=\"dataframe\">\n",
              "  <thead>\n",
              "    <tr style=\"text-align: right;\">\n",
              "      <th></th>\n",
              "      <th>customer_id</th>\n",
              "      <th>frequency</th>\n",
              "      <th>recency</th>\n",
              "      <th>T</th>\n",
              "      <th>monetary_value</th>\n",
              "      <th>test_frequency</th>\n",
              "      <th>test_monetary_value</th>\n",
              "      <th>test_T</th>\n",
              "      <th>expected_purchases_mean</th>\n",
              "      <th>expected_spend</th>\n",
              "      <th>future_spend</th>\n",
              "    </tr>\n",
              "  </thead>\n",
              "  <tbody>\n",
              "    <tr>\n",
              "      <th>0</th>\n",
              "      <td>12346.0</td>\n",
              "      <td>6.0</td>\n",
              "      <td>196.0</td>\n",
              "      <td>351.0</td>\n",
              "      <td>32.143333</td>\n",
              "      <td>0.0</td>\n",
              "      <td>0.00</td>\n",
              "      <td>9.0</td>\n",
              "      <td>0.142827</td>\n",
              "      <td>47.662017</td>\n",
              "      <td>47.662017</td>\n",
              "    </tr>\n",
              "    <tr>\n",
              "      <th>1</th>\n",
              "      <td>12347.0</td>\n",
              "      <td>0.0</td>\n",
              "      <td>0.0</td>\n",
              "      <td>30.0</td>\n",
              "      <td>0.000000</td>\n",
              "      <td>1.0</td>\n",
              "      <td>89.59</td>\n",
              "      <td>9.0</td>\n",
              "      <td>0.077283</td>\n",
              "      <td>74.798697</td>\n",
              "      <td>74.798697</td>\n",
              "    </tr>\n",
              "    <tr>\n",
              "      <th>2</th>\n",
              "      <td>12348.0</td>\n",
              "      <td>0.0</td>\n",
              "      <td>0.0</td>\n",
              "      <td>64.0</td>\n",
              "      <td>0.000000</td>\n",
              "      <td>0.0</td>\n",
              "      <td>0.00</td>\n",
              "      <td>9.0</td>\n",
              "      <td>0.056952</td>\n",
              "      <td>74.798697</td>\n",
              "      <td>74.798697</td>\n",
              "    </tr>\n",
              "    <tr>\n",
              "      <th>3</th>\n",
              "      <td>12349.0</td>\n",
              "      <td>2.0</td>\n",
              "      <td>182.0</td>\n",
              "      <td>215.0</td>\n",
              "      <td>340.380000</td>\n",
              "      <td>0.0</td>\n",
              "      <td>0.00</td>\n",
              "      <td>9.0</td>\n",
              "      <td>0.090185</td>\n",
              "      <td>172.658521</td>\n",
              "      <td>172.658521</td>\n",
              "    </tr>\n",
              "    <tr>\n",
              "      <th>4</th>\n",
              "      <td>12351.0</td>\n",
              "      <td>0.0</td>\n",
              "      <td>0.0</td>\n",
              "      <td>1.0</td>\n",
              "      <td>0.000000</td>\n",
              "      <td>0.0</td>\n",
              "      <td>0.00</td>\n",
              "      <td>9.0</td>\n",
              "      <td>0.111136</td>\n",
              "      <td>74.798697</td>\n",
              "      <td>74.798697</td>\n",
              "    </tr>\n",
              "  </tbody>\n",
              "</table>\n",
              "</div>\n",
              "    <div class=\"colab-df-buttons\">\n",
              "\n",
              "  <div class=\"colab-df-container\">\n",
              "    <button class=\"colab-df-convert\" onclick=\"convertToInteractive('df-cb2a2f52-27b6-475e-ae71-329b03af2179')\"\n",
              "            title=\"Convert this dataframe to an interactive table.\"\n",
              "            style=\"display:none;\">\n",
              "\n",
              "  <svg xmlns=\"http://www.w3.org/2000/svg\" height=\"24px\" viewBox=\"0 -960 960 960\">\n",
              "    <path d=\"M120-120v-720h720v720H120Zm60-500h600v-160H180v160Zm220 220h160v-160H400v160Zm0 220h160v-160H400v160ZM180-400h160v-160H180v160Zm440 0h160v-160H620v160ZM180-180h160v-160H180v160Zm440 0h160v-160H620v160Z\"/>\n",
              "  </svg>\n",
              "    </button>\n",
              "\n",
              "  <style>\n",
              "    .colab-df-container {\n",
              "      display:flex;\n",
              "      gap: 12px;\n",
              "    }\n",
              "\n",
              "    .colab-df-convert {\n",
              "      background-color: #E8F0FE;\n",
              "      border: none;\n",
              "      border-radius: 50%;\n",
              "      cursor: pointer;\n",
              "      display: none;\n",
              "      fill: #1967D2;\n",
              "      height: 32px;\n",
              "      padding: 0 0 0 0;\n",
              "      width: 32px;\n",
              "    }\n",
              "\n",
              "    .colab-df-convert:hover {\n",
              "      background-color: #E2EBFA;\n",
              "      box-shadow: 0px 1px 2px rgba(60, 64, 67, 0.3), 0px 1px 3px 1px rgba(60, 64, 67, 0.15);\n",
              "      fill: #174EA6;\n",
              "    }\n",
              "\n",
              "    .colab-df-buttons div {\n",
              "      margin-bottom: 4px;\n",
              "    }\n",
              "\n",
              "    [theme=dark] .colab-df-convert {\n",
              "      background-color: #3B4455;\n",
              "      fill: #D2E3FC;\n",
              "    }\n",
              "\n",
              "    [theme=dark] .colab-df-convert:hover {\n",
              "      background-color: #434B5C;\n",
              "      box-shadow: 0px 1px 3px 1px rgba(0, 0, 0, 0.15);\n",
              "      filter: drop-shadow(0px 1px 2px rgba(0, 0, 0, 0.3));\n",
              "      fill: #FFFFFF;\n",
              "    }\n",
              "  </style>\n",
              "\n",
              "    <script>\n",
              "      const buttonEl =\n",
              "        document.querySelector('#df-cb2a2f52-27b6-475e-ae71-329b03af2179 button.colab-df-convert');\n",
              "      buttonEl.style.display =\n",
              "        google.colab.kernel.accessAllowed ? 'block' : 'none';\n",
              "\n",
              "      async function convertToInteractive(key) {\n",
              "        const element = document.querySelector('#df-cb2a2f52-27b6-475e-ae71-329b03af2179');\n",
              "        const dataTable =\n",
              "          await google.colab.kernel.invokeFunction('convertToInteractive',\n",
              "                                                    [key], {});\n",
              "        if (!dataTable) return;\n",
              "\n",
              "        const docLinkHtml = 'Like what you see? Visit the ' +\n",
              "          '<a target=\"_blank\" href=https://colab.research.google.com/notebooks/data_table.ipynb>data table notebook</a>'\n",
              "          + ' to learn more about interactive tables.';\n",
              "        element.innerHTML = '';\n",
              "        dataTable['output_type'] = 'display_data';\n",
              "        await google.colab.output.renderOutput(dataTable, element);\n",
              "        const docLink = document.createElement('div');\n",
              "        docLink.innerHTML = docLinkHtml;\n",
              "        element.appendChild(docLink);\n",
              "      }\n",
              "    </script>\n",
              "  </div>\n",
              "\n",
              "\n",
              "    <div id=\"df-38f9dcff-7e92-42ef-aadd-a9d2a8b692d7\">\n",
              "      <button class=\"colab-df-quickchart\" onclick=\"quickchart('df-38f9dcff-7e92-42ef-aadd-a9d2a8b692d7')\"\n",
              "                title=\"Suggest charts\"\n",
              "                style=\"display:none;\">\n",
              "\n",
              "<svg xmlns=\"http://www.w3.org/2000/svg\" height=\"24px\"viewBox=\"0 0 24 24\"\n",
              "     width=\"24px\">\n",
              "    <g>\n",
              "        <path d=\"M19 3H5c-1.1 0-2 .9-2 2v14c0 1.1.9 2 2 2h14c1.1 0 2-.9 2-2V5c0-1.1-.9-2-2-2zM9 17H7v-7h2v7zm4 0h-2V7h2v10zm4 0h-2v-4h2v4z\"/>\n",
              "    </g>\n",
              "</svg>\n",
              "      </button>\n",
              "\n",
              "<style>\n",
              "  .colab-df-quickchart {\n",
              "      --bg-color: #E8F0FE;\n",
              "      --fill-color: #1967D2;\n",
              "      --hover-bg-color: #E2EBFA;\n",
              "      --hover-fill-color: #174EA6;\n",
              "      --disabled-fill-color: #AAA;\n",
              "      --disabled-bg-color: #DDD;\n",
              "  }\n",
              "\n",
              "  [theme=dark] .colab-df-quickchart {\n",
              "      --bg-color: #3B4455;\n",
              "      --fill-color: #D2E3FC;\n",
              "      --hover-bg-color: #434B5C;\n",
              "      --hover-fill-color: #FFFFFF;\n",
              "      --disabled-bg-color: #3B4455;\n",
              "      --disabled-fill-color: #666;\n",
              "  }\n",
              "\n",
              "  .colab-df-quickchart {\n",
              "    background-color: var(--bg-color);\n",
              "    border: none;\n",
              "    border-radius: 50%;\n",
              "    cursor: pointer;\n",
              "    display: none;\n",
              "    fill: var(--fill-color);\n",
              "    height: 32px;\n",
              "    padding: 0;\n",
              "    width: 32px;\n",
              "  }\n",
              "\n",
              "  .colab-df-quickchart:hover {\n",
              "    background-color: var(--hover-bg-color);\n",
              "    box-shadow: 0 1px 2px rgba(60, 64, 67, 0.3), 0 1px 3px 1px rgba(60, 64, 67, 0.15);\n",
              "    fill: var(--button-hover-fill-color);\n",
              "  }\n",
              "\n",
              "  .colab-df-quickchart-complete:disabled,\n",
              "  .colab-df-quickchart-complete:disabled:hover {\n",
              "    background-color: var(--disabled-bg-color);\n",
              "    fill: var(--disabled-fill-color);\n",
              "    box-shadow: none;\n",
              "  }\n",
              "\n",
              "  .colab-df-spinner {\n",
              "    border: 2px solid var(--fill-color);\n",
              "    border-color: transparent;\n",
              "    border-bottom-color: var(--fill-color);\n",
              "    animation:\n",
              "      spin 1s steps(1) infinite;\n",
              "  }\n",
              "\n",
              "  @keyframes spin {\n",
              "    0% {\n",
              "      border-color: transparent;\n",
              "      border-bottom-color: var(--fill-color);\n",
              "      border-left-color: var(--fill-color);\n",
              "    }\n",
              "    20% {\n",
              "      border-color: transparent;\n",
              "      border-left-color: var(--fill-color);\n",
              "      border-top-color: var(--fill-color);\n",
              "    }\n",
              "    30% {\n",
              "      border-color: transparent;\n",
              "      border-left-color: var(--fill-color);\n",
              "      border-top-color: var(--fill-color);\n",
              "      border-right-color: var(--fill-color);\n",
              "    }\n",
              "    40% {\n",
              "      border-color: transparent;\n",
              "      border-right-color: var(--fill-color);\n",
              "      border-top-color: var(--fill-color);\n",
              "    }\n",
              "    60% {\n",
              "      border-color: transparent;\n",
              "      border-right-color: var(--fill-color);\n",
              "    }\n",
              "    80% {\n",
              "      border-color: transparent;\n",
              "      border-right-color: var(--fill-color);\n",
              "      border-bottom-color: var(--fill-color);\n",
              "    }\n",
              "    90% {\n",
              "      border-color: transparent;\n",
              "      border-bottom-color: var(--fill-color);\n",
              "    }\n",
              "  }\n",
              "</style>\n",
              "\n",
              "      <script>\n",
              "        async function quickchart(key) {\n",
              "          const quickchartButtonEl =\n",
              "            document.querySelector('#' + key + ' button');\n",
              "          quickchartButtonEl.disabled = true;  // To prevent multiple clicks.\n",
              "          quickchartButtonEl.classList.add('colab-df-spinner');\n",
              "          try {\n",
              "            const charts = await google.colab.kernel.invokeFunction(\n",
              "                'suggestCharts', [key], {});\n",
              "          } catch (error) {\n",
              "            console.error('Error during call to suggestCharts:', error);\n",
              "          }\n",
              "          quickchartButtonEl.classList.remove('colab-df-spinner');\n",
              "          quickchartButtonEl.classList.add('colab-df-quickchart-complete');\n",
              "        }\n",
              "        (() => {\n",
              "          let quickchartButtonEl =\n",
              "            document.querySelector('#df-38f9dcff-7e92-42ef-aadd-a9d2a8b692d7 button');\n",
              "          quickchartButtonEl.style.display =\n",
              "            google.colab.kernel.accessAllowed ? 'block' : 'none';\n",
              "        })();\n",
              "      </script>\n",
              "    </div>\n",
              "\n",
              "    </div>\n",
              "  </div>\n"
            ],
            "text/plain": [
              "   customer_id  frequency  recency      T  monetary_value  test_frequency  \\\n",
              "0      12346.0        6.0    196.0  351.0       32.143333             0.0   \n",
              "1      12347.0        0.0      0.0   30.0        0.000000             1.0   \n",
              "2      12348.0        0.0      0.0   64.0        0.000000             0.0   \n",
              "3      12349.0        2.0    182.0  215.0      340.380000             0.0   \n",
              "4      12351.0        0.0      0.0    1.0        0.000000             0.0   \n",
              "\n",
              "   test_monetary_value  test_T  expected_purchases_mean  expected_spend  \\\n",
              "0                 0.00     9.0                 0.142827       47.662017   \n",
              "1                89.59     9.0                 0.077283       74.798697   \n",
              "2                 0.00     9.0                 0.056952       74.798697   \n",
              "3                 0.00     9.0                 0.090185      172.658521   \n",
              "4                 0.00     9.0                 0.111136       74.798697   \n",
              "\n",
              "   future_spend  \n",
              "0     47.662017  \n",
              "1     74.798697  \n",
              "2     74.798697  \n",
              "3    172.658521  \n",
              "4     74.798697  "
            ]
          },
          "execution_count": 27,
          "metadata": {},
          "output_type": "execute_result"
        }
      ],
      "source": [
        "rfm_data.head()"
      ]
    },
    {
      "cell_type": "markdown",
      "metadata": {
        "id": "IUpvo6XhwOVV"
      },
      "source": [
        "# BG/NBD Model\n",
        "Predicting Future Purchasing Behavior"
      ]
    },
    {
      "cell_type": "code",
      "execution_count": 8,
      "metadata": {
        "colab": {
          "base_uri": "https://localhost:8080/",
          "height": 480
        },
        "id": "crChN1Ur76zC",
        "outputId": "2de495d5-f074-4d22-edf5-02da576fb766"
      },
      "outputs": [
        {
          "data": {
            "image/svg+xml": [
              "<?xml version=\"1.0\" encoding=\"UTF-8\" standalone=\"no\"?>\n",
              "<!DOCTYPE svg PUBLIC \"-//W3C//DTD SVG 1.1//EN\"\n",
              " \"http://www.w3.org/Graphics/SVG/1.1/DTD/svg11.dtd\">\n",
              "<!-- Generated by graphviz version 2.43.0 (0)\n",
              " -->\n",
              "<!-- Title: %3 Pages: 1 -->\n",
              "<svg width=\"482pt\" height=\"344pt\"\n",
              " viewBox=\"0.00 0.00 481.90 343.86\" xmlns=\"http://www.w3.org/2000/svg\" xmlns:xlink=\"http://www.w3.org/1999/xlink\">\n",
              "<g id=\"graph0\" class=\"graph\" transform=\"scale(1 1) rotate(0) translate(4 339.86)\">\n",
              "<title>%3</title>\n",
              "<polygon fill=\"white\" stroke=\"transparent\" points=\"-4,4 -4,-339.86 477.9,-339.86 477.9,4 -4,4\"/>\n",
              "<g id=\"clust1\" class=\"cluster\">\n",
              "<title>clustercustomer_id (4268) x obs_var (2)</title>\n",
              "<path fill=\"none\" stroke=\"black\" d=\"M155.4,-8C155.4,-8 331.4,-8 331.4,-8 337.4,-8 343.4,-14 343.4,-20 343.4,-20 343.4,-109.95 343.4,-109.95 343.4,-115.95 337.4,-121.95 331.4,-121.95 331.4,-121.95 155.4,-121.95 155.4,-121.95 149.4,-121.95 143.4,-115.95 143.4,-109.95 143.4,-109.95 143.4,-20 143.4,-20 143.4,-14 149.4,-8 155.4,-8\"/>\n",
              "<text text-anchor=\"middle\" x=\"243.4\" y=\"-15.8\" font-family=\"Times,serif\" font-size=\"14.00\">customer_id (4268) x obs_var (2)</text>\n",
              "</g>\n",
              "<!-- phi_dropout -->\n",
              "<g id=\"node1\" class=\"node\">\n",
              "<title>phi_dropout</title>\n",
              "<ellipse fill=\"none\" stroke=\"black\" cx=\"232.4\" cy=\"-298.38\" rx=\"58.88\" ry=\"37.45\"/>\n",
              "<text text-anchor=\"middle\" x=\"232.4\" y=\"-309.68\" font-family=\"Times,serif\" font-size=\"14.00\">phi_dropout</text>\n",
              "<text text-anchor=\"middle\" x=\"232.4\" y=\"-294.68\" font-family=\"Times,serif\" font-size=\"14.00\">~</text>\n",
              "<text text-anchor=\"middle\" x=\"232.4\" y=\"-279.68\" font-family=\"Times,serif\" font-size=\"14.00\">Uniform</text>\n",
              "</g>\n",
              "<!-- b -->\n",
              "<g id=\"node4\" class=\"node\">\n",
              "<title>b</title>\n",
              "<polygon fill=\"none\" stroke=\"black\" points=\"227.9,-213.93 136.9,-213.93 136.9,-160.93 227.9,-160.93 227.9,-213.93\"/>\n",
              "<text text-anchor=\"middle\" x=\"182.4\" y=\"-198.73\" font-family=\"Times,serif\" font-size=\"14.00\">b</text>\n",
              "<text text-anchor=\"middle\" x=\"182.4\" y=\"-183.73\" font-family=\"Times,serif\" font-size=\"14.00\">~</text>\n",
              "<text text-anchor=\"middle\" x=\"182.4\" y=\"-168.73\" font-family=\"Times,serif\" font-size=\"14.00\">Deterministic</text>\n",
              "</g>\n",
              "<!-- phi_dropout&#45;&gt;b -->\n",
              "<g id=\"edge3\" class=\"edge\">\n",
              "<title>phi_dropout&#45;&gt;b</title>\n",
              "<path fill=\"none\" stroke=\"black\" d=\"M216.3,-262.31C210.57,-249.82 204.12,-235.76 198.39,-223.29\"/>\n",
              "<polygon fill=\"black\" stroke=\"black\" points=\"201.53,-221.74 194.18,-214.11 195.17,-224.66 201.53,-221.74\"/>\n",
              "</g>\n",
              "<!-- a -->\n",
              "<g id=\"node6\" class=\"node\">\n",
              "<title>a</title>\n",
              "<polygon fill=\"none\" stroke=\"black\" points=\"473.9,-213.93 382.9,-213.93 382.9,-160.93 473.9,-160.93 473.9,-213.93\"/>\n",
              "<text text-anchor=\"middle\" x=\"428.4\" y=\"-198.73\" font-family=\"Times,serif\" font-size=\"14.00\">a</text>\n",
              "<text text-anchor=\"middle\" x=\"428.4\" y=\"-183.73\" font-family=\"Times,serif\" font-size=\"14.00\">~</text>\n",
              "<text text-anchor=\"middle\" x=\"428.4\" y=\"-168.73\" font-family=\"Times,serif\" font-size=\"14.00\">Deterministic</text>\n",
              "</g>\n",
              "<!-- phi_dropout&#45;&gt;a -->\n",
              "<g id=\"edge1\" class=\"edge\">\n",
              "<title>phi_dropout&#45;&gt;a</title>\n",
              "<path fill=\"none\" stroke=\"black\" d=\"M278.81,-275.14C306.65,-261.41 342.53,-243 373.4,-224.91 376.35,-223.17 379.37,-221.35 382.39,-219.47\"/>\n",
              "<polygon fill=\"black\" stroke=\"black\" points=\"384.3,-222.41 390.88,-214.11 380.55,-216.5 384.3,-222.41\"/>\n",
              "</g>\n",
              "<!-- alpha -->\n",
              "<g id=\"node2\" class=\"node\">\n",
              "<title>alpha</title>\n",
              "<ellipse fill=\"none\" stroke=\"black\" cx=\"59.4\" cy=\"-187.43\" rx=\"59.29\" ry=\"37.45\"/>\n",
              "<text text-anchor=\"middle\" x=\"59.4\" y=\"-198.73\" font-family=\"Times,serif\" font-size=\"14.00\">alpha</text>\n",
              "<text text-anchor=\"middle\" x=\"59.4\" y=\"-183.73\" font-family=\"Times,serif\" font-size=\"14.00\">~</text>\n",
              "<text text-anchor=\"middle\" x=\"59.4\" y=\"-168.73\" font-family=\"Times,serif\" font-size=\"14.00\">WeibullBeta</text>\n",
              "</g>\n",
              "<!-- recency_frequency -->\n",
              "<g id=\"node7\" class=\"node\">\n",
              "<title>recency_frequency</title>\n",
              "<ellipse fill=\"lightgrey\" stroke=\"black\" cx=\"243.4\" cy=\"-76.48\" rx=\"84.29\" ry=\"37.45\"/>\n",
              "<text text-anchor=\"middle\" x=\"243.4\" y=\"-87.78\" font-family=\"Times,serif\" font-size=\"14.00\">recency_frequency</text>\n",
              "<text text-anchor=\"middle\" x=\"243.4\" y=\"-72.78\" font-family=\"Times,serif\" font-size=\"14.00\">~</text>\n",
              "<text text-anchor=\"middle\" x=\"243.4\" y=\"-57.78\" font-family=\"Times,serif\" font-size=\"14.00\">BetaGeoNBD</text>\n",
              "</g>\n",
              "<!-- alpha&#45;&gt;recency_frequency -->\n",
              "<g id=\"edge5\" class=\"edge\">\n",
              "<title>alpha&#45;&gt;recency_frequency</title>\n",
              "<path fill=\"none\" stroke=\"black\" d=\"M102.07,-161.16C126.68,-146.59 157.97,-128.06 184.85,-112.14\"/>\n",
              "<polygon fill=\"black\" stroke=\"black\" points=\"186.96,-114.96 193.79,-106.85 183.4,-108.94 186.96,-114.96\"/>\n",
              "</g>\n",
              "<!-- kappa_dropout -->\n",
              "<g id=\"node3\" class=\"node\">\n",
              "<title>kappa_dropout</title>\n",
              "<ellipse fill=\"none\" stroke=\"black\" cx=\"403.4\" cy=\"-298.38\" rx=\"69.09\" ry=\"37.45\"/>\n",
              "<text text-anchor=\"middle\" x=\"403.4\" y=\"-309.68\" font-family=\"Times,serif\" font-size=\"14.00\">kappa_dropout</text>\n",
              "<text text-anchor=\"middle\" x=\"403.4\" y=\"-294.68\" font-family=\"Times,serif\" font-size=\"14.00\">~</text>\n",
              "<text text-anchor=\"middle\" x=\"403.4\" y=\"-279.68\" font-family=\"Times,serif\" font-size=\"14.00\">Pareto</text>\n",
              "</g>\n",
              "<!-- kappa_dropout&#45;&gt;b -->\n",
              "<g id=\"edge4\" class=\"edge\">\n",
              "<title>kappa_dropout&#45;&gt;b</title>\n",
              "<path fill=\"none\" stroke=\"black\" d=\"M347.67,-275.89C314.9,-262.56 273.02,-244.31 237.4,-224.91 234.19,-223.16 230.93,-221.28 227.68,-219.33\"/>\n",
              "<polygon fill=\"black\" stroke=\"black\" points=\"229.48,-216.33 219.13,-214.05 225.8,-222.29 229.48,-216.33\"/>\n",
              "</g>\n",
              "<!-- kappa_dropout&#45;&gt;a -->\n",
              "<g id=\"edge2\" class=\"edge\">\n",
              "<title>kappa_dropout&#45;&gt;a</title>\n",
              "<path fill=\"none\" stroke=\"black\" d=\"M411.72,-261.1C414.45,-249.23 417.47,-236.05 420.19,-224.22\"/>\n",
              "<polygon fill=\"black\" stroke=\"black\" points=\"423.65,-224.75 422.48,-214.22 416.83,-223.19 423.65,-224.75\"/>\n",
              "</g>\n",
              "<!-- b&#45;&gt;recency_frequency -->\n",
              "<g id=\"edge6\" class=\"edge\">\n",
              "<title>b&#45;&gt;recency_frequency</title>\n",
              "<path fill=\"none\" stroke=\"black\" d=\"M196.7,-160.89C203.17,-149.34 211,-135.34 218.39,-122.14\"/>\n",
              "<polygon fill=\"black\" stroke=\"black\" points=\"221.58,-123.61 223.41,-113.17 215.47,-120.19 221.58,-123.61\"/>\n",
              "</g>\n",
              "<!-- r -->\n",
              "<g id=\"node5\" class=\"node\">\n",
              "<title>r</title>\n",
              "<ellipse fill=\"none\" stroke=\"black\" cx=\"305.4\" cy=\"-187.43\" rx=\"59.29\" ry=\"37.45\"/>\n",
              "<text text-anchor=\"middle\" x=\"305.4\" y=\"-198.73\" font-family=\"Times,serif\" font-size=\"14.00\">r</text>\n",
              "<text text-anchor=\"middle\" x=\"305.4\" y=\"-183.73\" font-family=\"Times,serif\" font-size=\"14.00\">~</text>\n",
              "<text text-anchor=\"middle\" x=\"305.4\" y=\"-168.73\" font-family=\"Times,serif\" font-size=\"14.00\">WeibullBeta</text>\n",
              "</g>\n",
              "<!-- r&#45;&gt;recency_frequency -->\n",
              "<g id=\"edge8\" class=\"edge\">\n",
              "<title>r&#45;&gt;recency_frequency</title>\n",
              "<path fill=\"none\" stroke=\"black\" d=\"M285.78,-151.96C280.4,-142.51 274.49,-132.12 268.84,-122.19\"/>\n",
              "<polygon fill=\"black\" stroke=\"black\" points=\"271.73,-120.19 263.74,-113.23 265.64,-123.65 271.73,-120.19\"/>\n",
              "</g>\n",
              "<!-- a&#45;&gt;recency_frequency -->\n",
              "<g id=\"edge7\" class=\"edge\">\n",
              "<title>a&#45;&gt;recency_frequency</title>\n",
              "<path fill=\"none\" stroke=\"black\" d=\"M390.77,-160.93C385,-157.17 379.07,-153.41 373.4,-149.95 351.48,-136.6 327,-122.7 305.25,-110.69\"/>\n",
              "<polygon fill=\"black\" stroke=\"black\" points=\"306.88,-107.59 296.43,-105.84 303.5,-113.72 306.88,-107.59\"/>\n",
              "</g>\n",
              "</g>\n",
              "</svg>\n"
            ],
            "text/plain": [
              "<graphviz.graphs.Digraph at 0x7ff7be11cd10>"
            ]
          },
          "execution_count": 8,
          "metadata": {},
          "output_type": "execute_result"
        }
      ],
      "source": [
        "bgm = clv.BetaGeoModel(data=rfm_data)\n",
        "\n",
        "bgm.build_model()\n",
        "bgm.graphviz()"
      ]
    },
    {
      "cell_type": "code",
      "execution_count": 9,
      "metadata": {
        "colab": {
          "base_uri": "https://localhost:8080/",
          "height": 331,
          "referenced_widgets": [
            "0d927a0844e54ea2aa867d0ad8afe0e9",
            "f9dfea1ef2de4a3d8f87e05327ef8c98"
          ]
        },
        "id": "145aUTPVdRaY",
        "outputId": "89a49252-52a0-40ac-a4a9-c3e63739592b"
      },
      "outputs": [
        {
          "data": {
            "application/vnd.jupyter.widget-view+json": {
              "model_id": "0d927a0844e54ea2aa867d0ad8afe0e9",
              "version_major": 2,
              "version_minor": 0
            },
            "text/plain": [
              "Output()"
            ]
          },
          "metadata": {},
          "output_type": "display_data"
        },
        {
          "data": {
            "text/html": [
              "<pre style=\"white-space:pre;overflow-x:auto;line-height:normal;font-family:Menlo,'DejaVu Sans Mono',consolas,'Courier New',monospace\"></pre>\n"
            ],
            "text/plain": []
          },
          "metadata": {},
          "output_type": "display_data"
        },
        {
          "data": {
            "application/vnd.google.colaboratory.intrinsic+json": {
              "summary": "{\n  \"name\": \"bgm\",\n  \"rows\": 6,\n  \"fields\": [\n    {\n      \"column\": \"mean\",\n      \"properties\": {\n        \"dtype\": \"number\",\n        \"std\": 25.170233653398345,\n        \"min\": 0.003,\n        \"max\": 65.256,\n        \"num_unique_values\": 6,\n        \"samples\": [\n          0.033,\n          65.256,\n          0.818\n        ],\n        \"semantic_type\": \"\",\n        \"description\": \"\"\n      }\n    },\n    {\n      \"column\": \"sd\",\n      \"properties\": {\n        \"dtype\": \"number\",\n        \"std\": 44.13230547796025,\n        \"min\": 0.002,\n        \"max\": 86.114,\n        \"num_unique_values\": 6,\n        \"samples\": [\n          0.139,\n          2.243,\n          0.024\n        ],\n        \"semantic_type\": \"\",\n        \"description\": \"\"\n      }\n    },\n    {\n      \"column\": \"hdi_3%\",\n      \"properties\": {\n        \"dtype\": \"number\",\n        \"std\": 24.82705494146792,\n        \"min\": 0.0,\n        \"max\": 61.357,\n        \"num_unique_values\": 5,\n        \"samples\": [\n          61.357,\n          0.774,\n          0.992\n        ],\n        \"semantic_type\": \"\",\n        \"description\": \"\"\n      }\n    },\n    {\n      \"column\": \"hdi_97%\",\n      \"properties\": {\n        \"dtype\": \"number\",\n        \"std\": 29.038440819024704,\n        \"min\": 0.007,\n        \"max\": 69.509,\n        \"num_unique_values\": 6,\n        \"samples\": [\n          0.082,\n          69.509,\n          0.864\n        ],\n        \"semantic_type\": \"\",\n        \"description\": \"\"\n      }\n    },\n    {\n      \"column\": \"mcse_mean\",\n      \"properties\": {\n        \"dtype\": \"number\",\n        \"std\": 1.333458723270678,\n        \"min\": 0.0,\n        \"max\": 2.602,\n        \"num_unique_values\": 6,\n        \"samples\": [\n          0.004,\n          0.068,\n          0.001\n        ],\n        \"semantic_type\": \"\",\n        \"description\": \"\"\n      }\n    },\n    {\n      \"column\": \"mcse_sd\",\n      \"properties\": {\n        \"dtype\": \"number\",\n        \"std\": 14.01002059479809,\n        \"min\": 0.0,\n        \"max\": 27.173,\n        \"num_unique_values\": 6,\n        \"samples\": [\n          0.04,\n          0.048,\n          0.001\n        ],\n        \"semantic_type\": \"\",\n        \"description\": \"\"\n      }\n    },\n    {\n      \"column\": \"ess_bulk\",\n      \"properties\": {\n        \"dtype\": \"number\",\n        \"std\": 93.98865179726042,\n        \"min\": 1089.0,\n        \"max\": 1289.0,\n        \"num_unique_values\": 6,\n        \"samples\": [\n          1089.0,\n          1100.0,\n          1097.0\n        ],\n        \"semantic_type\": \"\",\n        \"description\": \"\"\n      }\n    },\n    {\n      \"column\": \"ess_tail\",\n      \"properties\": {\n        \"dtype\": \"number\",\n        \"std\": 225.46877093439497,\n        \"min\": 625.0,\n        \"max\": 1279.0,\n        \"num_unique_values\": 6,\n        \"samples\": [\n          625.0,\n          1279.0,\n          1033.0\n        ],\n        \"semantic_type\": \"\",\n        \"description\": \"\"\n      }\n    },\n    {\n      \"column\": \"r_hat\",\n      \"properties\": {\n        \"dtype\": \"number\",\n        \"std\": 0.004082482904638634,\n        \"min\": 1.0,\n        \"max\": 1.01,\n        \"num_unique_values\": 2,\n        \"samples\": [\n          1.01,\n          1.0\n        ],\n        \"semantic_type\": \"\",\n        \"description\": \"\"\n      }\n    }\n  ]\n}",
              "type": "dataframe"
            },
            "text/html": [
              "\n",
              "  <div id=\"df-73db96d8-cba4-4651-afb0-ed0daca4efe9\" class=\"colab-df-container\">\n",
              "    <div>\n",
              "<style scoped>\n",
              "    .dataframe tbody tr th:only-of-type {\n",
              "        vertical-align: middle;\n",
              "    }\n",
              "\n",
              "    .dataframe tbody tr th {\n",
              "        vertical-align: top;\n",
              "    }\n",
              "\n",
              "    .dataframe thead th {\n",
              "        text-align: right;\n",
              "    }\n",
              "</style>\n",
              "<table border=\"1\" class=\"dataframe\">\n",
              "  <thead>\n",
              "    <tr style=\"text-align: right;\">\n",
              "      <th></th>\n",
              "      <th>mean</th>\n",
              "      <th>sd</th>\n",
              "      <th>hdi_3%</th>\n",
              "      <th>hdi_97%</th>\n",
              "      <th>mcse_mean</th>\n",
              "      <th>mcse_sd</th>\n",
              "      <th>ess_bulk</th>\n",
              "      <th>ess_tail</th>\n",
              "      <th>r_hat</th>\n",
              "    </tr>\n",
              "  </thead>\n",
              "  <tbody>\n",
              "    <tr>\n",
              "      <th>a</th>\n",
              "      <td>0.033</td>\n",
              "      <td>0.139</td>\n",
              "      <td>0.000</td>\n",
              "      <td>0.082</td>\n",
              "      <td>0.004</td>\n",
              "      <td>0.040</td>\n",
              "      <td>1089.0</td>\n",
              "      <td>625.0</td>\n",
              "      <td>1.00</td>\n",
              "    </tr>\n",
              "    <tr>\n",
              "      <th>alpha</th>\n",
              "      <td>65.256</td>\n",
              "      <td>2.243</td>\n",
              "      <td>61.357</td>\n",
              "      <td>69.509</td>\n",
              "      <td>0.068</td>\n",
              "      <td>0.048</td>\n",
              "      <td>1100.0</td>\n",
              "      <td>1279.0</td>\n",
              "      <td>1.00</td>\n",
              "    </tr>\n",
              "    <tr>\n",
              "      <th>b</th>\n",
              "      <td>15.516</td>\n",
              "      <td>85.982</td>\n",
              "      <td>0.992</td>\n",
              "      <td>39.177</td>\n",
              "      <td>2.598</td>\n",
              "      <td>27.132</td>\n",
              "      <td>1289.0</td>\n",
              "      <td>1137.0</td>\n",
              "      <td>1.00</td>\n",
              "    </tr>\n",
              "    <tr>\n",
              "      <th>kappa_dropout</th>\n",
              "      <td>15.549</td>\n",
              "      <td>86.114</td>\n",
              "      <td>1.003</td>\n",
              "      <td>39.359</td>\n",
              "      <td>2.602</td>\n",
              "      <td>27.173</td>\n",
              "      <td>1285.0</td>\n",
              "      <td>1129.0</td>\n",
              "      <td>1.00</td>\n",
              "    </tr>\n",
              "    <tr>\n",
              "      <th>phi_dropout</th>\n",
              "      <td>0.003</td>\n",
              "      <td>0.002</td>\n",
              "      <td>0.000</td>\n",
              "      <td>0.007</td>\n",
              "      <td>0.000</td>\n",
              "      <td>0.000</td>\n",
              "      <td>1176.0</td>\n",
              "      <td>946.0</td>\n",
              "      <td>1.00</td>\n",
              "    </tr>\n",
              "    <tr>\n",
              "      <th>r</th>\n",
              "      <td>0.818</td>\n",
              "      <td>0.024</td>\n",
              "      <td>0.774</td>\n",
              "      <td>0.864</td>\n",
              "      <td>0.001</td>\n",
              "      <td>0.001</td>\n",
              "      <td>1097.0</td>\n",
              "      <td>1033.0</td>\n",
              "      <td>1.01</td>\n",
              "    </tr>\n",
              "  </tbody>\n",
              "</table>\n",
              "</div>\n",
              "    <div class=\"colab-df-buttons\">\n",
              "\n",
              "  <div class=\"colab-df-container\">\n",
              "    <button class=\"colab-df-convert\" onclick=\"convertToInteractive('df-73db96d8-cba4-4651-afb0-ed0daca4efe9')\"\n",
              "            title=\"Convert this dataframe to an interactive table.\"\n",
              "            style=\"display:none;\">\n",
              "\n",
              "  <svg xmlns=\"http://www.w3.org/2000/svg\" height=\"24px\" viewBox=\"0 -960 960 960\">\n",
              "    <path d=\"M120-120v-720h720v720H120Zm60-500h600v-160H180v160Zm220 220h160v-160H400v160Zm0 220h160v-160H400v160ZM180-400h160v-160H180v160Zm440 0h160v-160H620v160ZM180-180h160v-160H180v160Zm440 0h160v-160H620v160Z\"/>\n",
              "  </svg>\n",
              "    </button>\n",
              "\n",
              "  <style>\n",
              "    .colab-df-container {\n",
              "      display:flex;\n",
              "      gap: 12px;\n",
              "    }\n",
              "\n",
              "    .colab-df-convert {\n",
              "      background-color: #E8F0FE;\n",
              "      border: none;\n",
              "      border-radius: 50%;\n",
              "      cursor: pointer;\n",
              "      display: none;\n",
              "      fill: #1967D2;\n",
              "      height: 32px;\n",
              "      padding: 0 0 0 0;\n",
              "      width: 32px;\n",
              "    }\n",
              "\n",
              "    .colab-df-convert:hover {\n",
              "      background-color: #E2EBFA;\n",
              "      box-shadow: 0px 1px 2px rgba(60, 64, 67, 0.3), 0px 1px 3px 1px rgba(60, 64, 67, 0.15);\n",
              "      fill: #174EA6;\n",
              "    }\n",
              "\n",
              "    .colab-df-buttons div {\n",
              "      margin-bottom: 4px;\n",
              "    }\n",
              "\n",
              "    [theme=dark] .colab-df-convert {\n",
              "      background-color: #3B4455;\n",
              "      fill: #D2E3FC;\n",
              "    }\n",
              "\n",
              "    [theme=dark] .colab-df-convert:hover {\n",
              "      background-color: #434B5C;\n",
              "      box-shadow: 0px 1px 3px 1px rgba(0, 0, 0, 0.15);\n",
              "      filter: drop-shadow(0px 1px 2px rgba(0, 0, 0, 0.3));\n",
              "      fill: #FFFFFF;\n",
              "    }\n",
              "  </style>\n",
              "\n",
              "    <script>\n",
              "      const buttonEl =\n",
              "        document.querySelector('#df-73db96d8-cba4-4651-afb0-ed0daca4efe9 button.colab-df-convert');\n",
              "      buttonEl.style.display =\n",
              "        google.colab.kernel.accessAllowed ? 'block' : 'none';\n",
              "\n",
              "      async function convertToInteractive(key) {\n",
              "        const element = document.querySelector('#df-73db96d8-cba4-4651-afb0-ed0daca4efe9');\n",
              "        const dataTable =\n",
              "          await google.colab.kernel.invokeFunction('convertToInteractive',\n",
              "                                                    [key], {});\n",
              "        if (!dataTable) return;\n",
              "\n",
              "        const docLinkHtml = 'Like what you see? Visit the ' +\n",
              "          '<a target=\"_blank\" href=https://colab.research.google.com/notebooks/data_table.ipynb>data table notebook</a>'\n",
              "          + ' to learn more about interactive tables.';\n",
              "        element.innerHTML = '';\n",
              "        dataTable['output_type'] = 'display_data';\n",
              "        await google.colab.output.renderOutput(dataTable, element);\n",
              "        const docLink = document.createElement('div');\n",
              "        docLink.innerHTML = docLinkHtml;\n",
              "        element.appendChild(docLink);\n",
              "      }\n",
              "    </script>\n",
              "  </div>\n",
              "\n",
              "\n",
              "    <div id=\"df-743c0bb8-b945-4203-909a-32d7c0100ede\">\n",
              "      <button class=\"colab-df-quickchart\" onclick=\"quickchart('df-743c0bb8-b945-4203-909a-32d7c0100ede')\"\n",
              "                title=\"Suggest charts\"\n",
              "                style=\"display:none;\">\n",
              "\n",
              "<svg xmlns=\"http://www.w3.org/2000/svg\" height=\"24px\"viewBox=\"0 0 24 24\"\n",
              "     width=\"24px\">\n",
              "    <g>\n",
              "        <path d=\"M19 3H5c-1.1 0-2 .9-2 2v14c0 1.1.9 2 2 2h14c1.1 0 2-.9 2-2V5c0-1.1-.9-2-2-2zM9 17H7v-7h2v7zm4 0h-2V7h2v10zm4 0h-2v-4h2v4z\"/>\n",
              "    </g>\n",
              "</svg>\n",
              "      </button>\n",
              "\n",
              "<style>\n",
              "  .colab-df-quickchart {\n",
              "      --bg-color: #E8F0FE;\n",
              "      --fill-color: #1967D2;\n",
              "      --hover-bg-color: #E2EBFA;\n",
              "      --hover-fill-color: #174EA6;\n",
              "      --disabled-fill-color: #AAA;\n",
              "      --disabled-bg-color: #DDD;\n",
              "  }\n",
              "\n",
              "  [theme=dark] .colab-df-quickchart {\n",
              "      --bg-color: #3B4455;\n",
              "      --fill-color: #D2E3FC;\n",
              "      --hover-bg-color: #434B5C;\n",
              "      --hover-fill-color: #FFFFFF;\n",
              "      --disabled-bg-color: #3B4455;\n",
              "      --disabled-fill-color: #666;\n",
              "  }\n",
              "\n",
              "  .colab-df-quickchart {\n",
              "    background-color: var(--bg-color);\n",
              "    border: none;\n",
              "    border-radius: 50%;\n",
              "    cursor: pointer;\n",
              "    display: none;\n",
              "    fill: var(--fill-color);\n",
              "    height: 32px;\n",
              "    padding: 0;\n",
              "    width: 32px;\n",
              "  }\n",
              "\n",
              "  .colab-df-quickchart:hover {\n",
              "    background-color: var(--hover-bg-color);\n",
              "    box-shadow: 0 1px 2px rgba(60, 64, 67, 0.3), 0 1px 3px 1px rgba(60, 64, 67, 0.15);\n",
              "    fill: var(--button-hover-fill-color);\n",
              "  }\n",
              "\n",
              "  .colab-df-quickchart-complete:disabled,\n",
              "  .colab-df-quickchart-complete:disabled:hover {\n",
              "    background-color: var(--disabled-bg-color);\n",
              "    fill: var(--disabled-fill-color);\n",
              "    box-shadow: none;\n",
              "  }\n",
              "\n",
              "  .colab-df-spinner {\n",
              "    border: 2px solid var(--fill-color);\n",
              "    border-color: transparent;\n",
              "    border-bottom-color: var(--fill-color);\n",
              "    animation:\n",
              "      spin 1s steps(1) infinite;\n",
              "  }\n",
              "\n",
              "  @keyframes spin {\n",
              "    0% {\n",
              "      border-color: transparent;\n",
              "      border-bottom-color: var(--fill-color);\n",
              "      border-left-color: var(--fill-color);\n",
              "    }\n",
              "    20% {\n",
              "      border-color: transparent;\n",
              "      border-left-color: var(--fill-color);\n",
              "      border-top-color: var(--fill-color);\n",
              "    }\n",
              "    30% {\n",
              "      border-color: transparent;\n",
              "      border-left-color: var(--fill-color);\n",
              "      border-top-color: var(--fill-color);\n",
              "      border-right-color: var(--fill-color);\n",
              "    }\n",
              "    40% {\n",
              "      border-color: transparent;\n",
              "      border-right-color: var(--fill-color);\n",
              "      border-top-color: var(--fill-color);\n",
              "    }\n",
              "    60% {\n",
              "      border-color: transparent;\n",
              "      border-right-color: var(--fill-color);\n",
              "    }\n",
              "    80% {\n",
              "      border-color: transparent;\n",
              "      border-right-color: var(--fill-color);\n",
              "      border-bottom-color: var(--fill-color);\n",
              "    }\n",
              "    90% {\n",
              "      border-color: transparent;\n",
              "      border-bottom-color: var(--fill-color);\n",
              "    }\n",
              "  }\n",
              "</style>\n",
              "\n",
              "      <script>\n",
              "        async function quickchart(key) {\n",
              "          const quickchartButtonEl =\n",
              "            document.querySelector('#' + key + ' button');\n",
              "          quickchartButtonEl.disabled = true;  // To prevent multiple clicks.\n",
              "          quickchartButtonEl.classList.add('colab-df-spinner');\n",
              "          try {\n",
              "            const charts = await google.colab.kernel.invokeFunction(\n",
              "                'suggestCharts', [key], {});\n",
              "          } catch (error) {\n",
              "            console.error('Error during call to suggestCharts:', error);\n",
              "          }\n",
              "          quickchartButtonEl.classList.remove('colab-df-spinner');\n",
              "          quickchartButtonEl.classList.add('colab-df-quickchart-complete');\n",
              "        }\n",
              "        (() => {\n",
              "          let quickchartButtonEl =\n",
              "            document.querySelector('#df-743c0bb8-b945-4203-909a-32d7c0100ede button');\n",
              "          quickchartButtonEl.style.display =\n",
              "            google.colab.kernel.accessAllowed ? 'block' : 'none';\n",
              "        })();\n",
              "      </script>\n",
              "    </div>\n",
              "\n",
              "    </div>\n",
              "  </div>\n"
            ],
            "text/plain": [
              "                 mean      sd  hdi_3%  hdi_97%  mcse_mean  mcse_sd  ess_bulk  \\\n",
              "a               0.033   0.139   0.000    0.082      0.004    0.040    1089.0   \n",
              "alpha          65.256   2.243  61.357   69.509      0.068    0.048    1100.0   \n",
              "b              15.516  85.982   0.992   39.177      2.598   27.132    1289.0   \n",
              "kappa_dropout  15.549  86.114   1.003   39.359      2.602   27.173    1285.0   \n",
              "phi_dropout     0.003   0.002   0.000    0.007      0.000    0.000    1176.0   \n",
              "r               0.818   0.024   0.774    0.864      0.001    0.001    1097.0   \n",
              "\n",
              "               ess_tail  r_hat  \n",
              "a                 625.0   1.00  \n",
              "alpha            1279.0   1.00  \n",
              "b                1137.0   1.00  \n",
              "kappa_dropout    1129.0   1.00  \n",
              "phi_dropout       946.0   1.00  \n",
              "r                1033.0   1.01  "
            ]
          },
          "execution_count": 9,
          "metadata": {},
          "output_type": "execute_result"
        }
      ],
      "source": [
        "bgm.fit()\n",
        "bgm.fit_summary()"
      ]
    },
    {
      "cell_type": "code",
      "execution_count": 10,
      "metadata": {
        "colab": {
          "base_uri": "https://localhost:8080/",
          "height": 527
        },
        "id": "7cUvjFeEfQAe",
        "outputId": "8051867b-c1ad-4046-b78f-27d46d6f7d8f"
      },
      "outputs": [
        {
          "data": {
            "text/plain": [
              "<Axes: title={'center': 'Expected Number of Future Purchases for 1 Unit of Time,\\nby Frequency and Recency of a Customer'}, xlabel=\"Customer's Historical Frequency\", ylabel=\"Customer's Recency\">"
            ]
          },
          "execution_count": 10,
          "metadata": {},
          "output_type": "execute_result"
        },
        {
          "data": {
            "image/png": "[encoded data removed]",
            "text/plain": [
              "<Figure size 640x480 with 2 Axes>"
            ]
          },
          "metadata": {},
          "output_type": "display_data"
        }
      ],
      "source": [
        "clv.plot_frequency_recency_matrix(bgm)"
      ]
    },
    {
      "cell_type": "code",
      "execution_count": 11,
      "metadata": {
        "colab": {
          "base_uri": "https://localhost:8080/",
          "height": 510
        },
        "id": "kNJep5bAf1CR",
        "outputId": "d51e1d25-f6ea-4b13-cdb9-6320b73b467a"
      },
      "outputs": [
        {
          "data": {
            "text/plain": [
              "<Axes: title={'center': 'Probability Customer is Alive,\\nby Frequency and Recency of a Customer'}, xlabel=\"Customer's Historical Frequency\", ylabel=\"Customer's Recency\">"
            ]
          },
          "execution_count": 11,
          "metadata": {},
          "output_type": "execute_result"
        },
        {
          "data": {
            "image/png": "[encoded data removed]",
            "text/plain": [
              "<Figure size 640x480 with 2 Axes>"
            ]
          },
          "metadata": {},
          "output_type": "display_data"
        }
      ],
      "source": [
        "clv.plot_probability_alive_matrix(bgm)"
      ]
    },
    {
      "cell_type": "markdown",
      "metadata": {
        "id": "KSgUJB56wkcU"
      },
      "source": [
        "## Expected purchases"
      ]
    },
    {
      "cell_type": "code",
      "execution_count": 12,
      "metadata": {
        "id": "MHM0PPe8gOf0"
      },
      "outputs": [],
      "source": [
        "# Select holdout time to predict\n",
        "future_t_holdout = rfm_data['test_T'].values\n",
        "\n",
        "# Predict futerue purchase\n",
        "num_purchases = bgm.expected_purchases(future_t= future_t_holdout)\n",
        "expected_purchases_mean = num_purchases.mean(dim=(\"chain\", \"draw\")).values\n",
        "\n",
        "rfm_data['expected_purchases_mean'] = expected_purchases_mean"
      ]
    },
    {
      "cell_type": "markdown",
      "metadata": {
        "id": "rEwR4WyL3jU8"
      },
      "source": [
        "## Evaluate"
      ]
    },
    {
      "cell_type": "code",
      "execution_count": 13,
      "metadata": {
        "colab": {
          "base_uri": "https://localhost:8080/",
          "height": 472
        },
        "id": "lq6HkAmzdXx2",
        "outputId": "e3668c68-e06e-4f68-aeb3-ea6738dfff85"
      },
      "outputs": [
        {
          "data": {
            "image/png": "[encoded data removed]",
            "text/plain": [
              "<Figure size 640x480 with 1 Axes>"
            ]
          },
          "metadata": {},
          "output_type": "display_data"
        }
      ],
      "source": [
        "clv.plot_expected_purchases_over_time(\n",
        "    model=bgm,\n",
        "    purchase_history=raw_data,\n",
        "    datetime_col=\"date\",\n",
        "    customer_id_col=\"Customer_ID\",\n",
        "    datetime_format=\"%Y%m%d\",\n",
        "    time_unit=\"D\",\n",
        "    t=observed_period,\n",
        "    t_start_eval= 364\n",
        ");"
      ]
    },
    {
      "cell_type": "code",
      "execution_count": 14,
      "metadata": {
        "colab": {
          "base_uri": "https://localhost:8080/"
        },
        "id": "HjFuYsPKphUd",
        "outputId": "91e90c02-1632-4776-a11a-1a8efaff0095"
      },
      "outputs": [
        {
          "data": {
            "text/plain": [
              "0.19347363703002057"
            ]
          },
          "execution_count": 14,
          "metadata": {},
          "output_type": "execute_result"
        }
      ],
      "source": [
        "# Remover NaNs se houver (pode acontecer se houver clientes sem histórico suficiente)\n",
        "rfm_eval = rfm_data.dropna(\n",
        "    subset=['test_frequency', 'expected_purchases_mean']\n",
        ")\n",
        "\n",
        "y_true = rfm_eval['test_frequency']\n",
        "y_pred = rfm_eval['expected_purchases_mean']\n",
        "mean_absolute_error(y_true, y_pred)"
      ]
    },
    {
      "cell_type": "markdown",
      "metadata": {
        "id": "K8owocHJwHRs"
      },
      "source": [
        "# Gamma-Gamma Model"
      ]
    },
    {
      "cell_type": "code",
      "execution_count": 15,
      "metadata": {
        "colab": {
          "base_uri": "https://localhost:8080/",
          "height": 111
        },
        "id": "0toJsSD9xLuM",
        "outputId": "18d81991-f6d2-408b-fa03-58d22e353eeb"
      },
      "outputs": [
        {
          "data": {
            "application/vnd.google.colaboratory.intrinsic+json": {
              "summary": "{\n  \"name\": \"nonzero_rfm_data[[\\\"monetary_value\\\", \\\"frequency\\\"]]\",\n  \"rows\": 2,\n  \"fields\": [\n    {\n      \"column\": \"monetary_value\",\n      \"properties\": {\n        \"dtype\": \"number\",\n        \"std\": 0.6892998307097657,\n        \"min\": 0.02518283086877091,\n        \"max\": 1.0,\n        \"num_unique_values\": 2,\n        \"samples\": [\n          0.02518283086877091,\n          1.0\n        ],\n        \"semantic_type\": \"\",\n        \"description\": \"\"\n      }\n    },\n    {\n      \"column\": \"frequency\",\n      \"properties\": {\n        \"dtype\": \"number\",\n        \"std\": 0.6892998307097657,\n        \"min\": 0.02518283086877091,\n        \"max\": 1.0,\n        \"num_unique_values\": 2,\n        \"samples\": [\n          1.0,\n          0.02518283086877091\n        ],\n        \"semantic_type\": \"\",\n        \"description\": \"\"\n      }\n    }\n  ]\n}",
              "type": "dataframe"
            },
            "text/html": [
              "\n",
              "  <div id=\"df-68182dd9-e67b-4fef-92e6-58f0e8aa0af8\" class=\"colab-df-container\">\n",
              "    <div>\n",
              "<style scoped>\n",
              "    .dataframe tbody tr th:only-of-type {\n",
              "        vertical-align: middle;\n",
              "    }\n",
              "\n",
              "    .dataframe tbody tr th {\n",
              "        vertical-align: top;\n",
              "    }\n",
              "\n",
              "    .dataframe thead th {\n",
              "        text-align: right;\n",
              "    }\n",
              "</style>\n",
              "<table border=\"1\" class=\"dataframe\">\n",
              "  <thead>\n",
              "    <tr style=\"text-align: right;\">\n",
              "      <th></th>\n",
              "      <th>monetary_value</th>\n",
              "      <th>frequency</th>\n",
              "    </tr>\n",
              "  </thead>\n",
              "  <tbody>\n",
              "    <tr>\n",
              "      <th>monetary_value</th>\n",
              "      <td>1.000000</td>\n",
              "      <td>0.025183</td>\n",
              "    </tr>\n",
              "    <tr>\n",
              "      <th>frequency</th>\n",
              "      <td>0.025183</td>\n",
              "      <td>1.000000</td>\n",
              "    </tr>\n",
              "  </tbody>\n",
              "</table>\n",
              "</div>\n",
              "    <div class=\"colab-df-buttons\">\n",
              "\n",
              "  <div class=\"colab-df-container\">\n",
              "    <button class=\"colab-df-convert\" onclick=\"convertToInteractive('df-68182dd9-e67b-4fef-92e6-58f0e8aa0af8')\"\n",
              "            title=\"Convert this dataframe to an interactive table.\"\n",
              "            style=\"display:none;\">\n",
              "\n",
              "  <svg xmlns=\"http://www.w3.org/2000/svg\" height=\"24px\" viewBox=\"0 -960 960 960\">\n",
              "    <path d=\"M120-120v-720h720v720H120Zm60-500h600v-160H180v160Zm220 220h160v-160H400v160Zm0 220h160v-160H400v160ZM180-400h160v-160H180v160Zm440 0h160v-160H620v160ZM180-180h160v-160H180v160Zm440 0h160v-160H620v160Z\"/>\n",
              "  </svg>\n",
              "    </button>\n",
              "\n",
              "  <style>\n",
              "    .colab-df-container {\n",
              "      display:flex;\n",
              "      gap: 12px;\n",
              "    }\n",
              "\n",
              "    .colab-df-convert {\n",
              "      background-color: #E8F0FE;\n",
              "      border: none;\n",
              "      border-radius: 50%;\n",
              "      cursor: pointer;\n",
              "      display: none;\n",
              "      fill: #1967D2;\n",
              "      height: 32px;\n",
              "      padding: 0 0 0 0;\n",
              "      width: 32px;\n",
              "    }\n",
              "\n",
              "    .colab-df-convert:hover {\n",
              "      background-color: #E2EBFA;\n",
              "      box-shadow: 0px 1px 2px rgba(60, 64, 67, 0.3), 0px 1px 3px 1px rgba(60, 64, 67, 0.15);\n",
              "      fill: #174EA6;\n",
              "    }\n",
              "\n",
              "    .colab-df-buttons div {\n",
              "      margin-bottom: 4px;\n",
              "    }\n",
              "\n",
              "    [theme=dark] .colab-df-convert {\n",
              "      background-color: #3B4455;\n",
              "      fill: #D2E3FC;\n",
              "    }\n",
              "\n",
              "    [theme=dark] .colab-df-convert:hover {\n",
              "      background-color: #434B5C;\n",
              "      box-shadow: 0px 1px 3px 1px rgba(0, 0, 0, 0.15);\n",
              "      filter: drop-shadow(0px 1px 2px rgba(0, 0, 0, 0.3));\n",
              "      fill: #FFFFFF;\n",
              "    }\n",
              "  </style>\n",
              "\n",
              "    <script>\n",
              "      const buttonEl =\n",
              "        document.querySelector('#df-68182dd9-e67b-4fef-92e6-58f0e8aa0af8 button.colab-df-convert');\n",
              "      buttonEl.style.display =\n",
              "        google.colab.kernel.accessAllowed ? 'block' : 'none';\n",
              "\n",
              "      async function convertToInteractive(key) {\n",
              "        const element = document.querySelector('#df-68182dd9-e67b-4fef-92e6-58f0e8aa0af8');\n",
              "        const dataTable =\n",
              "          await google.colab.kernel.invokeFunction('convertToInteractive',\n",
              "                                                    [key], {});\n",
              "        if (!dataTable) return;\n",
              "\n",
              "        const docLinkHtml = 'Like what you see? Visit the ' +\n",
              "          '<a target=\"_blank\" href=https://colab.research.google.com/notebooks/data_table.ipynb>data table notebook</a>'\n",
              "          + ' to learn more about interactive tables.';\n",
              "        element.innerHTML = '';\n",
              "        dataTable['output_type'] = 'display_data';\n",
              "        await google.colab.output.renderOutput(dataTable, element);\n",
              "        const docLink = document.createElement('div');\n",
              "        docLink.innerHTML = docLinkHtml;\n",
              "        element.appendChild(docLink);\n",
              "      }\n",
              "    </script>\n",
              "  </div>\n",
              "\n",
              "\n",
              "    <div id=\"df-19e54202-7a36-41da-8127-32ac1ec65d54\">\n",
              "      <button class=\"colab-df-quickchart\" onclick=\"quickchart('df-19e54202-7a36-41da-8127-32ac1ec65d54')\"\n",
              "                title=\"Suggest charts\"\n",
              "                style=\"display:none;\">\n",
              "\n",
              "<svg xmlns=\"http://www.w3.org/2000/svg\" height=\"24px\"viewBox=\"0 0 24 24\"\n",
              "     width=\"24px\">\n",
              "    <g>\n",
              "        <path d=\"M19 3H5c-1.1 0-2 .9-2 2v14c0 1.1.9 2 2 2h14c1.1 0 2-.9 2-2V5c0-1.1-.9-2-2-2zM9 17H7v-7h2v7zm4 0h-2V7h2v10zm4 0h-2v-4h2v4z\"/>\n",
              "    </g>\n",
              "</svg>\n",
              "      </button>\n",
              "\n",
              "<style>\n",
              "  .colab-df-quickchart {\n",
              "      --bg-color: #E8F0FE;\n",
              "      --fill-color: #1967D2;\n",
              "      --hover-bg-color: #E2EBFA;\n",
              "      --hover-fill-color: #174EA6;\n",
              "      --disabled-fill-color: #AAA;\n",
              "      --disabled-bg-color: #DDD;\n",
              "  }\n",
              "\n",
              "  [theme=dark] .colab-df-quickchart {\n",
              "      --bg-color: #3B4455;\n",
              "      --fill-color: #D2E3FC;\n",
              "      --hover-bg-color: #434B5C;\n",
              "      --hover-fill-color: #FFFFFF;\n",
              "      --disabled-bg-color: #3B4455;\n",
              "      --disabled-fill-color: #666;\n",
              "  }\n",
              "\n",
              "  .colab-df-quickchart {\n",
              "    background-color: var(--bg-color);\n",
              "    border: none;\n",
              "    border-radius: 50%;\n",
              "    cursor: pointer;\n",
              "    display: none;\n",
              "    fill: var(--fill-color);\n",
              "    height: 32px;\n",
              "    padding: 0;\n",
              "    width: 32px;\n",
              "  }\n",
              "\n",
              "  .colab-df-quickchart:hover {\n",
              "    background-color: var(--hover-bg-color);\n",
              "    box-shadow: 0 1px 2px rgba(60, 64, 67, 0.3), 0 1px 3px 1px rgba(60, 64, 67, 0.15);\n",
              "    fill: var(--button-hover-fill-color);\n",
              "  }\n",
              "\n",
              "  .colab-df-quickchart-complete:disabled,\n",
              "  .colab-df-quickchart-complete:disabled:hover {\n",
              "    background-color: var(--disabled-bg-color);\n",
              "    fill: var(--disabled-fill-color);\n",
              "    box-shadow: none;\n",
              "  }\n",
              "\n",
              "  .colab-df-spinner {\n",
              "    border: 2px solid var(--fill-color);\n",
              "    border-color: transparent;\n",
              "    border-bottom-color: var(--fill-color);\n",
              "    animation:\n",
              "      spin 1s steps(1) infinite;\n",
              "  }\n",
              "\n",
              "  @keyframes spin {\n",
              "    0% {\n",
              "      border-color: transparent;\n",
              "      border-bottom-color: var(--fill-color);\n",
              "      border-left-color: var(--fill-color);\n",
              "    }\n",
              "    20% {\n",
              "      border-color: transparent;\n",
              "      border-left-color: var(--fill-color);\n",
              "      border-top-color: var(--fill-color);\n",
              "    }\n",
              "    30% {\n",
              "      border-color: transparent;\n",
              "      border-left-color: var(--fill-color);\n",
              "      border-top-color: var(--fill-color);\n",
              "      border-right-color: var(--fill-color);\n",
              "    }\n",
              "    40% {\n",
              "      border-color: transparent;\n",
              "      border-right-color: var(--fill-color);\n",
              "      border-top-color: var(--fill-color);\n",
              "    }\n",
              "    60% {\n",
              "      border-color: transparent;\n",
              "      border-right-color: var(--fill-color);\n",
              "    }\n",
              "    80% {\n",
              "      border-color: transparent;\n",
              "      border-right-color: var(--fill-color);\n",
              "      border-bottom-color: var(--fill-color);\n",
              "    }\n",
              "    90% {\n",
              "      border-color: transparent;\n",
              "      border-bottom-color: var(--fill-color);\n",
              "    }\n",
              "  }\n",
              "</style>\n",
              "\n",
              "      <script>\n",
              "        async function quickchart(key) {\n",
              "          const quickchartButtonEl =\n",
              "            document.querySelector('#' + key + ' button');\n",
              "          quickchartButtonEl.disabled = true;  // To prevent multiple clicks.\n",
              "          quickchartButtonEl.classList.add('colab-df-spinner');\n",
              "          try {\n",
              "            const charts = await google.colab.kernel.invokeFunction(\n",
              "                'suggestCharts', [key], {});\n",
              "          } catch (error) {\n",
              "            console.error('Error during call to suggestCharts:', error);\n",
              "          }\n",
              "          quickchartButtonEl.classList.remove('colab-df-spinner');\n",
              "          quickchartButtonEl.classList.add('colab-df-quickchart-complete');\n",
              "        }\n",
              "        (() => {\n",
              "          let quickchartButtonEl =\n",
              "            document.querySelector('#df-19e54202-7a36-41da-8127-32ac1ec65d54 button');\n",
              "          quickchartButtonEl.style.display =\n",
              "            google.colab.kernel.accessAllowed ? 'block' : 'none';\n",
              "        })();\n",
              "      </script>\n",
              "    </div>\n",
              "\n",
              "    </div>\n",
              "  </div>\n"
            ],
            "text/plain": [
              "                monetary_value  frequency\n",
              "monetary_value        1.000000   0.025183\n",
              "frequency             0.025183   1.000000"
            ]
          },
          "execution_count": 15,
          "metadata": {},
          "output_type": "execute_result"
        }
      ],
      "source": [
        "nonzero_rfm_data = rfm_data.query(\"frequency>0\")\n",
        "\n",
        "nonzero_rfm_data[[\"monetary_value\", \"frequency\"]].corr()"
      ]
    },
    {
      "cell_type": "code",
      "execution_count": 16,
      "metadata": {
        "colab": {
          "base_uri": "https://localhost:8080/"
        },
        "id": "I9Dv6Hyhw7DL",
        "outputId": "b5312d01-1bfc-4e87-a3e0-401d56301c77"
      },
      "outputs": [
        {
          "data": {
            "text/plain": [
              "Gamma-Gamma Model (Mean Transactions)\n",
              "         p ~ HalfFlat()\n",
              "         q ~ HalfFlat()\n",
              "         v ~ HalfFlat()\n",
              "likelihood ~ Potential(f(q, p, v))"
            ]
          },
          "execution_count": 16,
          "metadata": {},
          "output_type": "execute_result"
        }
      ],
      "source": [
        "gg = clv.GammaGammaModel(data=nonzero_rfm_data)\n",
        "gg.build_model()\n",
        "gg"
      ]
    },
    {
      "cell_type": "code",
      "execution_count": 17,
      "metadata": {
        "colab": {
          "base_uri": "https://localhost:8080/",
          "height": 238,
          "referenced_widgets": [
            "26c223f120c740b3afb37b545c9f6c41",
            "89292cde28fa444a924865108355a20e"
          ]
        },
        "id": "V9tbkXWgxPB2",
        "outputId": "8e9ee329-db29-4df0-f919-877ac4e65de4"
      },
      "outputs": [
        {
          "data": {
            "application/vnd.jupyter.widget-view+json": {
              "model_id": "26c223f120c740b3afb37b545c9f6c41",
              "version_major": 2,
              "version_minor": 0
            },
            "text/plain": [
              "Output()"
            ]
          },
          "metadata": {},
          "output_type": "display_data"
        },
        {
          "data": {
            "text/html": [
              "<pre style=\"white-space:pre;overflow-x:auto;line-height:normal;font-family:Menlo,'DejaVu Sans Mono',consolas,'Courier New',monospace\"></pre>\n"
            ],
            "text/plain": []
          },
          "metadata": {},
          "output_type": "display_data"
        },
        {
          "data": {
            "application/vnd.google.colaboratory.intrinsic+json": {
              "summary": "{\n  \"name\": \"gg\",\n  \"rows\": 3,\n  \"fields\": [\n    {\n      \"column\": \"mean\",\n      \"properties\": {\n        \"dtype\": \"number\",\n        \"std\": 147.69703719777183,\n        \"min\": 0.823,\n        \"max\": 258.133,\n        \"num_unique_values\": 3,\n        \"samples\": [\n          0.823,\n          3.832,\n          258.133\n        ],\n        \"semantic_type\": \"\",\n        \"description\": \"\"\n      }\n    },\n    {\n      \"column\": \"sd\",\n      \"properties\": {\n        \"dtype\": \"number\",\n        \"std\": 15.677455990476686,\n        \"min\": 0.034,\n        \"max\": 27.296,\n        \"num_unique_values\": 3,\n        \"samples\": [\n          0.034,\n          0.251,\n          27.296\n        ],\n        \"semantic_type\": \"\",\n        \"description\": \"\"\n      }\n    },\n    {\n      \"column\": \"hdi_3%\",\n      \"properties\": {\n        \"dtype\": \"number\",\n        \"std\": 119.93865504915419,\n        \"min\": 0.761,\n        \"max\": 209.796,\n        \"num_unique_values\": 3,\n        \"samples\": [\n          0.761,\n          3.376,\n          209.796\n        ],\n        \"semantic_type\": \"\",\n        \"description\": \"\"\n      }\n    },\n    {\n      \"column\": \"hdi_97%\",\n      \"properties\": {\n        \"dtype\": \"number\",\n        \"std\": 177.01290197139116,\n        \"min\": 0.887,\n        \"max\": 309.18,\n        \"num_unique_values\": 3,\n        \"samples\": [\n          0.887,\n          4.311,\n          309.18\n        ],\n        \"semantic_type\": \"\",\n        \"description\": \"\"\n      }\n    },\n    {\n      \"column\": \"mcse_mean\",\n      \"properties\": {\n        \"dtype\": \"number\",\n        \"std\": 0.8002230938931967,\n        \"min\": 0.002,\n        \"max\": 1.393,\n        \"num_unique_values\": 3,\n        \"samples\": [\n          0.002,\n          0.012,\n          1.393\n        ],\n        \"semantic_type\": \"\",\n        \"description\": \"\"\n      }\n    },\n    {\n      \"column\": \"mcse_sd\",\n      \"properties\": {\n        \"dtype\": \"number\",\n        \"std\": 0.4771928331398115,\n        \"min\": 0.001,\n        \"max\": 0.831,\n        \"num_unique_values\": 3,\n        \"samples\": [\n          0.001,\n          0.008,\n          0.831\n        ],\n        \"semantic_type\": \"\",\n        \"description\": \"\"\n      }\n    },\n    {\n      \"column\": \"ess_bulk\",\n      \"properties\": {\n        \"dtype\": \"number\",\n        \"std\": 43.61574639202376,\n        \"min\": 383.0,\n        \"max\": 460.0,\n        \"num_unique_values\": 3,\n        \"samples\": [\n          457.0,\n          460.0,\n          383.0\n        ],\n        \"semantic_type\": \"\",\n        \"description\": \"\"\n      }\n    },\n    {\n      \"column\": \"ess_tail\",\n      \"properties\": {\n        \"dtype\": \"number\",\n        \"std\": 94.3203760241303,\n        \"min\": 506.0,\n        \"max\": 693.0,\n        \"num_unique_values\": 3,\n        \"samples\": [\n          693.0,\n          578.0,\n          506.0\n        ],\n        \"semantic_type\": \"\",\n        \"description\": \"\"\n      }\n    },\n    {\n      \"column\": \"r_hat\",\n      \"properties\": {\n        \"dtype\": \"number\",\n        \"std\": 0.0,\n        \"min\": 1.0,\n        \"max\": 1.0,\n        \"num_unique_values\": 1,\n        \"samples\": [\n          1.0\n        ],\n        \"semantic_type\": \"\",\n        \"description\": \"\"\n      }\n    }\n  ]\n}",
              "type": "dataframe"
            },
            "text/html": [
              "\n",
              "  <div id=\"df-a9a86253-9e9e-416e-a1c0-5d1377179fa2\" class=\"colab-df-container\">\n",
              "    <div>\n",
              "<style scoped>\n",
              "    .dataframe tbody tr th:only-of-type {\n",
              "        vertical-align: middle;\n",
              "    }\n",
              "\n",
              "    .dataframe tbody tr th {\n",
              "        vertical-align: top;\n",
              "    }\n",
              "\n",
              "    .dataframe thead th {\n",
              "        text-align: right;\n",
              "    }\n",
              "</style>\n",
              "<table border=\"1\" class=\"dataframe\">\n",
              "  <thead>\n",
              "    <tr style=\"text-align: right;\">\n",
              "      <th></th>\n",
              "      <th>mean</th>\n",
              "      <th>sd</th>\n",
              "      <th>hdi_3%</th>\n",
              "      <th>hdi_97%</th>\n",
              "      <th>mcse_mean</th>\n",
              "      <th>mcse_sd</th>\n",
              "      <th>ess_bulk</th>\n",
              "      <th>ess_tail</th>\n",
              "      <th>r_hat</th>\n",
              "    </tr>\n",
              "  </thead>\n",
              "  <tbody>\n",
              "    <tr>\n",
              "      <th>p</th>\n",
              "      <td>0.823</td>\n",
              "      <td>0.034</td>\n",
              "      <td>0.761</td>\n",
              "      <td>0.887</td>\n",
              "      <td>0.002</td>\n",
              "      <td>0.001</td>\n",
              "      <td>457.0</td>\n",
              "      <td>693.0</td>\n",
              "      <td>1.0</td>\n",
              "    </tr>\n",
              "    <tr>\n",
              "      <th>q</th>\n",
              "      <td>3.832</td>\n",
              "      <td>0.251</td>\n",
              "      <td>3.376</td>\n",
              "      <td>4.311</td>\n",
              "      <td>0.012</td>\n",
              "      <td>0.008</td>\n",
              "      <td>460.0</td>\n",
              "      <td>578.0</td>\n",
              "      <td>1.0</td>\n",
              "    </tr>\n",
              "    <tr>\n",
              "      <th>v</th>\n",
              "      <td>258.133</td>\n",
              "      <td>27.296</td>\n",
              "      <td>209.796</td>\n",
              "      <td>309.180</td>\n",
              "      <td>1.393</td>\n",
              "      <td>0.831</td>\n",
              "      <td>383.0</td>\n",
              "      <td>506.0</td>\n",
              "      <td>1.0</td>\n",
              "    </tr>\n",
              "  </tbody>\n",
              "</table>\n",
              "</div>\n",
              "    <div class=\"colab-df-buttons\">\n",
              "\n",
              "  <div class=\"colab-df-container\">\n",
              "    <button class=\"colab-df-convert\" onclick=\"convertToInteractive('df-a9a86253-9e9e-416e-a1c0-5d1377179fa2')\"\n",
              "            title=\"Convert this dataframe to an interactive table.\"\n",
              "            style=\"display:none;\">\n",
              "\n",
              "  <svg xmlns=\"http://www.w3.org/2000/svg\" height=\"24px\" viewBox=\"0 -960 960 960\">\n",
              "    <path d=\"M120-120v-720h720v720H120Zm60-500h600v-160H180v160Zm220 220h160v-160H400v160Zm0 220h160v-160H400v160ZM180-400h160v-160H180v160Zm440 0h160v-160H620v160ZM180-180h160v-160H180v160Zm440 0h160v-160H620v160Z\"/>\n",
              "  </svg>\n",
              "    </button>\n",
              "\n",
              "  <style>\n",
              "    .colab-df-container {\n",
              "      display:flex;\n",
              "      gap: 12px;\n",
              "    }\n",
              "\n",
              "    .colab-df-convert {\n",
              "      background-color: #E8F0FE;\n",
              "      border: none;\n",
              "      border-radius: 50%;\n",
              "      cursor: pointer;\n",
              "      display: none;\n",
              "      fill: #1967D2;\n",
              "      height: 32px;\n",
              "      padding: 0 0 0 0;\n",
              "      width: 32px;\n",
              "    }\n",
              "\n",
              "    .colab-df-convert:hover {\n",
              "      background-color: #E2EBFA;\n",
              "      box-shadow: 0px 1px 2px rgba(60, 64, 67, 0.3), 0px 1px 3px 1px rgba(60, 64, 67, 0.15);\n",
              "      fill: #174EA6;\n",
              "    }\n",
              "\n",
              "    .colab-df-buttons div {\n",
              "      margin-bottom: 4px;\n",
              "    }\n",
              "\n",
              "    [theme=dark] .colab-df-convert {\n",
              "      background-color: #3B4455;\n",
              "      fill: #D2E3FC;\n",
              "    }\n",
              "\n",
              "    [theme=dark] .colab-df-convert:hover {\n",
              "      background-color: #434B5C;\n",
              "      box-shadow: 0px 1px 3px 1px rgba(0, 0, 0, 0.15);\n",
              "      filter: drop-shadow(0px 1px 2px rgba(0, 0, 0, 0.3));\n",
              "      fill: #FFFFFF;\n",
              "    }\n",
              "  </style>\n",
              "\n",
              "    <script>\n",
              "      const buttonEl =\n",
              "        document.querySelector('#df-a9a86253-9e9e-416e-a1c0-5d1377179fa2 button.colab-df-convert');\n",
              "      buttonEl.style.display =\n",
              "        google.colab.kernel.accessAllowed ? 'block' : 'none';\n",
              "\n",
              "      async function convertToInteractive(key) {\n",
              "        const element = document.querySelector('#df-a9a86253-9e9e-416e-a1c0-5d1377179fa2');\n",
              "        const dataTable =\n",
              "          await google.colab.kernel.invokeFunction('convertToInteractive',\n",
              "                                                    [key], {});\n",
              "        if (!dataTable) return;\n",
              "\n",
              "        const docLinkHtml = 'Like what you see? Visit the ' +\n",
              "          '<a target=\"_blank\" href=https://colab.research.google.com/notebooks/data_table.ipynb>data table notebook</a>'\n",
              "          + ' to learn more about interactive tables.';\n",
              "        element.innerHTML = '';\n",
              "        dataTable['output_type'] = 'display_data';\n",
              "        await google.colab.output.renderOutput(dataTable, element);\n",
              "        const docLink = document.createElement('div');\n",
              "        docLink.innerHTML = docLinkHtml;\n",
              "        element.appendChild(docLink);\n",
              "      }\n",
              "    </script>\n",
              "  </div>\n",
              "\n",
              "\n",
              "    <div id=\"df-cc60905e-66ce-49b3-bc78-586416ca5db1\">\n",
              "      <button class=\"colab-df-quickchart\" onclick=\"quickchart('df-cc60905e-66ce-49b3-bc78-586416ca5db1')\"\n",
              "                title=\"Suggest charts\"\n",
              "                style=\"display:none;\">\n",
              "\n",
              "<svg xmlns=\"http://www.w3.org/2000/svg\" height=\"24px\"viewBox=\"0 0 24 24\"\n",
              "     width=\"24px\">\n",
              "    <g>\n",
              "        <path d=\"M19 3H5c-1.1 0-2 .9-2 2v14c0 1.1.9 2 2 2h14c1.1 0 2-.9 2-2V5c0-1.1-.9-2-2-2zM9 17H7v-7h2v7zm4 0h-2V7h2v10zm4 0h-2v-4h2v4z\"/>\n",
              "    </g>\n",
              "</svg>\n",
              "      </button>\n",
              "\n",
              "<style>\n",
              "  .colab-df-quickchart {\n",
              "      --bg-color: #E8F0FE;\n",
              "      --fill-color: #1967D2;\n",
              "      --hover-bg-color: #E2EBFA;\n",
              "      --hover-fill-color: #174EA6;\n",
              "      --disabled-fill-color: #AAA;\n",
              "      --disabled-bg-color: #DDD;\n",
              "  }\n",
              "\n",
              "  [theme=dark] .colab-df-quickchart {\n",
              "      --bg-color: #3B4455;\n",
              "      --fill-color: #D2E3FC;\n",
              "      --hover-bg-color: #434B5C;\n",
              "      --hover-fill-color: #FFFFFF;\n",
              "      --disabled-bg-color: #3B4455;\n",
              "      --disabled-fill-color: #666;\n",
              "  }\n",
              "\n",
              "  .colab-df-quickchart {\n",
              "    background-color: var(--bg-color);\n",
              "    border: none;\n",
              "    border-radius: 50%;\n",
              "    cursor: pointer;\n",
              "    display: none;\n",
              "    fill: var(--fill-color);\n",
              "    height: 32px;\n",
              "    padding: 0;\n",
              "    width: 32px;\n",
              "  }\n",
              "\n",
              "  .colab-df-quickchart:hover {\n",
              "    background-color: var(--hover-bg-color);\n",
              "    box-shadow: 0 1px 2px rgba(60, 64, 67, 0.3), 0 1px 3px 1px rgba(60, 64, 67, 0.15);\n",
              "    fill: var(--button-hover-fill-color);\n",
              "  }\n",
              "\n",
              "  .colab-df-quickchart-complete:disabled,\n",
              "  .colab-df-quickchart-complete:disabled:hover {\n",
              "    background-color: var(--disabled-bg-color);\n",
              "    fill: var(--disabled-fill-color);\n",
              "    box-shadow: none;\n",
              "  }\n",
              "\n",
              "  .colab-df-spinner {\n",
              "    border: 2px solid var(--fill-color);\n",
              "    border-color: transparent;\n",
              "    border-bottom-color: var(--fill-color);\n",
              "    animation:\n",
              "      spin 1s steps(1) infinite;\n",
              "  }\n",
              "\n",
              "  @keyframes spin {\n",
              "    0% {\n",
              "      border-color: transparent;\n",
              "      border-bottom-color: var(--fill-color);\n",
              "      border-left-color: var(--fill-color);\n",
              "    }\n",
              "    20% {\n",
              "      border-color: transparent;\n",
              "      border-left-color: var(--fill-color);\n",
              "      border-top-color: var(--fill-color);\n",
              "    }\n",
              "    30% {\n",
              "      border-color: transparent;\n",
              "      border-left-color: var(--fill-color);\n",
              "      border-top-color: var(--fill-color);\n",
              "      border-right-color: var(--fill-color);\n",
              "    }\n",
              "    40% {\n",
              "      border-color: transparent;\n",
              "      border-right-color: var(--fill-color);\n",
              "      border-top-color: var(--fill-color);\n",
              "    }\n",
              "    60% {\n",
              "      border-color: transparent;\n",
              "      border-right-color: var(--fill-color);\n",
              "    }\n",
              "    80% {\n",
              "      border-color: transparent;\n",
              "      border-right-color: var(--fill-color);\n",
              "      border-bottom-color: var(--fill-color);\n",
              "    }\n",
              "    90% {\n",
              "      border-color: transparent;\n",
              "      border-bottom-color: var(--fill-color);\n",
              "    }\n",
              "  }\n",
              "</style>\n",
              "\n",
              "      <script>\n",
              "        async function quickchart(key) {\n",
              "          const quickchartButtonEl =\n",
              "            document.querySelector('#' + key + ' button');\n",
              "          quickchartButtonEl.disabled = true;  // To prevent multiple clicks.\n",
              "          quickchartButtonEl.classList.add('colab-df-spinner');\n",
              "          try {\n",
              "            const charts = await google.colab.kernel.invokeFunction(\n",
              "                'suggestCharts', [key], {});\n",
              "          } catch (error) {\n",
              "            console.error('Error during call to suggestCharts:', error);\n",
              "          }\n",
              "          quickchartButtonEl.classList.remove('colab-df-spinner');\n",
              "          quickchartButtonEl.classList.add('colab-df-quickchart-complete');\n",
              "        }\n",
              "        (() => {\n",
              "          let quickchartButtonEl =\n",
              "            document.querySelector('#df-cc60905e-66ce-49b3-bc78-586416ca5db1 button');\n",
              "          quickchartButtonEl.style.display =\n",
              "            google.colab.kernel.accessAllowed ? 'block' : 'none';\n",
              "        })();\n",
              "      </script>\n",
              "    </div>\n",
              "\n",
              "    </div>\n",
              "  </div>\n"
            ],
            "text/plain": [
              "      mean      sd   hdi_3%  hdi_97%  mcse_mean  mcse_sd  ess_bulk  ess_tail  \\\n",
              "p    0.823   0.034    0.761    0.887      0.002    0.001     457.0     693.0   \n",
              "q    3.832   0.251    3.376    4.311      0.012    0.008     460.0     578.0   \n",
              "v  258.133  27.296  209.796  309.180      1.393    0.831     383.0     506.0   \n",
              "\n",
              "   r_hat  \n",
              "p    1.0  \n",
              "q    1.0  \n",
              "v    1.0  "
            ]
          },
          "execution_count": 17,
          "metadata": {},
          "output_type": "execute_result"
        }
      ],
      "source": [
        "gg.fit()\n",
        "gg.fit_summary()"
      ]
    },
    {
      "cell_type": "markdown",
      "metadata": {
        "id": "-GNu6aQIGt-u"
      },
      "source": [
        "## Expected spend"
      ]
    },
    {
      "cell_type": "code",
      "execution_count": 18,
      "metadata": {
        "id": "rVXNuJz3xnZe"
      },
      "outputs": [],
      "source": [
        "# Predict futerue purchase\n",
        "expected_spend = gg.expected_customer_spend(data=rfm_data)\n",
        "\n",
        "expected_spend_mean:np.array = expected_spend.mean(dim=(\"chain\", \"draw\")).values\n",
        "\n",
        "rfm_data['expected_spend'] = expected_spend_mean"
      ]
    },
    {
      "cell_type": "markdown",
      "metadata": {
        "id": "FscHn56tHRlx"
      },
      "source": [
        "## Evaluate"
      ]
    },
    {
      "cell_type": "code",
      "execution_count": 19,
      "metadata": {
        "colab": {
          "base_uri": "https://localhost:8080/",
          "height": 456
        },
        "id": "NCDyAPXIoBmo",
        "outputId": "8f1c334a-23fe-4ed6-b7a7-3729ad7c5c5a"
      },
      "outputs": [
        {
          "data": {
            "image/png": "[encoded data removed]",
            "text/plain": [
              "<Figure size 640x480 with 1 Axes>"
            ]
          },
          "metadata": {},
          "output_type": "display_data"
        }
      ],
      "source": [
        "az.plot_posterior(expected_spend.mean(\"customer_id\"))\n",
        "plt.axvline(expected_spend.mean(), color=\"k\", ls=\"--\")\n",
        "plt.title(\"Expected mean spend of all customers\");"
      ]
    },
    {
      "cell_type": "code",
      "execution_count": 20,
      "metadata": {
        "colab": {
          "base_uri": "https://localhost:8080/"
        },
        "id": "OinFVO3GgLn-",
        "outputId": "6f78b5f1-7b3c-4b6e-ffcd-12f3035fecdf"
      },
      "outputs": [
        {
          "data": {
            "text/plain": [
              "0.25417103101587535"
            ]
          },
          "execution_count": 20,
          "metadata": {},
          "output_type": "execute_result"
        }
      ],
      "source": [
        "# Remover NaNs se houver (pode acontecer se houver clientes sem histórico suficiente)\n",
        "rfm_eval = rfm_data.query(\"frequency>0\")\n",
        "\n",
        "y_true = rfm_eval['test_frequency']\n",
        "y_pred = rfm_eval['expected_purchases_mean']\n",
        "mean_absolute_error(y_true, y_pred)"
      ]
    },
    {
      "cell_type": "code",
      "execution_count": 21,
      "metadata": {
        "colab": {
          "base_uri": "https://localhost:8080/",
          "height": 494
        },
        "id": "8i_YG88lyIaO",
        "outputId": "8eac4d0f-522b-4587-edaa-7db62185f542"
      },
      "outputs": [
        {
          "data": {
            "image/png": "[encoded data removed]",
            "text/plain": [
              "<Figure size 600x500 with 1 Axes>"
            ]
          },
          "metadata": {},
          "output_type": "display_data"
        }
      ],
      "source": [
        "# Map labels\n",
        "labeller = MapLabeller(var_name_map={\"x\": \"customer\"})\n",
        "\n",
        "# Sort constumers with the best mean\n",
        "sorted_customer_ids = expected_spend.mean(dim=[\"chain\", \"draw\"])\\\n",
        "                                     .to_series()\\\n",
        "                                     .sort_values(ascending=False)\\\n",
        "                                     .index[:10]\n",
        "\n",
        "# Select posterior\n",
        "sorted_posterior_data = expected_spend.sel(customer_id=sorted_customer_ids)\n",
        "\n",
        "# Plot top 10 constumers\n",
        "az.plot_forest(\n",
        "    sorted_posterior_data,\n",
        "    combined=True,\n",
        "    labeller=labeller,\n",
        ")\n",
        "plt.xlabel(\"Expected mean spend\");"
      ]
    },
    {
      "cell_type": "markdown",
      "metadata": {
        "id": "q3xSsyZeyYqI"
      },
      "source": [
        "# CLV"
      ]
    },
    {
      "cell_type": "code",
      "execution_count": 22,
      "metadata": {
        "colab": {
          "base_uri": "https://localhost:8080/"
        },
        "id": "UAJije2ByI-l",
        "outputId": "19f59af1-d3c0-4f1f-c431-5877bd4661df"
      },
      "outputs": [
        {
          "name": "stdout",
          "output_type": "stream",
          "text": [
            "CPU times: user 31 s, sys: 4.69 s, total: 35.7 s\n",
            "Wall time: 35.9 s\n"
          ]
        }
      ],
      "source": [
        "%%time\n",
        "clv_estimate = gg.expected_customer_lifetime_value(\n",
        "    transaction_model=bgm,\n",
        "    data=rfm_data,\n",
        "    future_t=9,\n",
        "    discount_rate=0.01,\n",
        "    time_unit=\"D\"\n",
        ")"
      ]
    },
    {
      "cell_type": "markdown",
      "metadata": {
        "id": "rrPEVu8O7xz5"
      },
      "source": [
        "## Evaluate"
      ]
    },
    {
      "cell_type": "code",
      "execution_count": 23,
      "metadata": {
        "colab": {
          "base_uri": "https://localhost:8080/",
          "height": 571
        },
        "id": "Hdua8kzgPss8",
        "outputId": "70455347-f9e5-4586-843f-6a45dd6680f8"
      },
      "outputs": [
        {
          "data": {
            "image/png": "[encoded data removed]",
            "text/plain": [
              "<Figure size 600x600 with 1 Axes>"
            ]
          },
          "metadata": {},
          "output_type": "display_data"
        }
      ],
      "source": [
        "# Map labels\n",
        "labeller = MapLabeller(var_name_map={\"x\": \"customer\"})\n",
        "\n",
        "# Sort constumers with the best mean\n",
        "sorted_customer_ids = clv_estimate.mean(dim=[\"chain\", \"draw\"])\\\n",
        "                                     .to_series()\\\n",
        "                                     .sort_values(ascending=False)\\\n",
        "                                     .index[:10]\n",
        "\n",
        "# Select posterior\n",
        "sorted_posterior_data = clv_estimate.sel(customer_id=sorted_customer_ids)\n",
        "\n",
        "az.plot_forest(sorted_posterior_data)\n",
        "plt.xlabel(\"Expected CLV\");"
      ]
    },
    {
      "cell_type": "code",
      "execution_count": 24,
      "metadata": {
        "id": "uRib_Px7P7n7"
      },
      "outputs": [],
      "source": [
        "#!jupyter nbconvert --to html /content/esalq_cslv.ipynb\n"
      ]
    },
    {
      "cell_type": "markdown",
      "metadata": {
        "id": "geBrFbeNtd9P"
      },
      "source": [
        "Modelo Gamma-Gamma e Valor Monetário Esperado\n",
        "Complementando a análise, o modelo Gamma-Gamma foi aplicado para prever o valor monetário das transações futuras esperadas por cliente. A Tabela 4 mostra as estimativas médias de gasto por cliente, indicando aqueles com potencial de alto retorno financeiro.\n",
        "\n",
        "\n",
        "Estimativa do Customer Lifetime Value (CLV)\n",
        "Por fim, a combinação dos resultados dos modelos BG/NBD e Gamma-Gamma possibilitou o cálculo da métrica final de Customer Lifetime Value (CLV). A Tabela 4 apresenta uma classificação dos clientes segundo o valor esperado ao longo do tempo, destacando claramente aqueles que geram maior valor à organização.\n",
        "(Inserir aqui a Tabela 4 com resultados combinados dos modelos para estimativa do CLV)\n",
        "\n",
        "Esses resultados demonstram a importância estratégica do uso integrado desses modelos para tomada de decisões fundamentadas em dados, possibilitando investimentos mais assertivos em retenção e aquisição de clientes, além de estratégias personalizadas de marketing."
      ]
    }
  ],
  "metadata": {
    "colab": {
      "provenance": [],
      "toc_visible": true
    },
    "kernelspec": {
      "display_name": ".venv_esalq",
      "language": "python",
      "name": "python3"
    },
    "language_info": {
      "name": "python",
      "version": "3.11.6"
    },
    "widgets": {
      "application/vnd.jupyter.widget-state+json": {
        "0d927a0844e54ea2aa867d0ad8afe0e9": {
          "model_module": "@jupyter-widgets/output",
          "model_module_version": "1.0.0",
          "model_name": "OutputModel",
          "state": {
            "_dom_classes": [],
            "_model_module": "@jupyter-widgets/output",
            "_model_module_version": "1.0.0",
            "_model_name": "OutputModel",
            "_view_count": null,
            "_view_module": "@jupyter-widgets/output",
            "_view_module_version": "1.0.0",
            "_view_name": "OutputView",
            "layout": "IPY_MODEL_f9dfea1ef2de4a3d8f87e05327ef8c98",
            "msg_id": "",
            "outputs": [
              {
                "data": {
                  "text/html": "<pre style=\"white-space:pre;overflow-x:auto;line-height:normal;font-family:Menlo,'DejaVu Sans Mono',consolas,'Courier New',monospace\">                                                                                                                   \n <span style=\"font-weight: bold\"> Progress                  </span> <span style=\"font-weight: bold\"> Draws </span> <span style=\"font-weight: bold\"> Divergences </span> <span style=\"font-weight: bold\"> Step size </span> <span style=\"font-weight: bold\"> Grad evals </span> <span style=\"font-weight: bold\"> Sampling Speed </span> <span style=\"font-weight: bold\"> Elapsed </span> <span style=\"font-weight: bold\"> Remaining </span> \n ───────────────────────────────────────────────────────────────────────────────────────────────────────────────── \n  <span style=\"color: #1f77b4; text-decoration-color: #1f77b4\">━━━━━━━━━━━━━━━━━━━━━━━━━</span>   2000    0             0.51        7            43.79 draws/s    0:00:45   0:00:00    \n  <span style=\"color: #1f77b4; text-decoration-color: #1f77b4\">━━━━━━━━━━━━━━━━━━━━━━━━━</span>   2000    0             0.63        7            20.96 draws/s    0:01:35   0:00:00    \n                                                                                                                   \n</pre>\n",
                  "text/plain": "                                                                                                                   \n \u001b[1m \u001b[0m\u001b[1mProgress                 \u001b[0m\u001b[1m \u001b[0m \u001b[1m \u001b[0m\u001b[1mDraws\u001b[0m\u001b[1m \u001b[0m \u001b[1m \u001b[0m\u001b[1mDivergences\u001b[0m\u001b[1m \u001b[0m \u001b[1m \u001b[0m\u001b[1mStep size\u001b[0m\u001b[1m \u001b[0m \u001b[1m \u001b[0m\u001b[1mGrad evals\u001b[0m\u001b[1m \u001b[0m \u001b[1m \u001b[0m\u001b[1mSampling Speed\u001b[0m\u001b[1m \u001b[0m \u001b[1m \u001b[0m\u001b[1mElapsed\u001b[0m\u001b[1m \u001b[0m \u001b[1m \u001b[0m\u001b[1mRemaining\u001b[0m\u001b[1m \u001b[0m \n ───────────────────────────────────────────────────────────────────────────────────────────────────────────────── \n  \u001b[38;2;31;119;180m━━━━━━━━━━━━━━━━━━━━━━━━━\u001b[0m   2000    0             0.51        7            43.79 draws/s    0:00:45   0:00:00    \n  \u001b[38;2;31;119;180m━━━━━━━━━━━━━━━━━━━━━━━━━\u001b[0m   2000    0             0.63        7            20.96 draws/s    0:01:35   0:00:00    \n                                                                                                                   \n"
                },
                "metadata": {},
                "output_type": "display_data"
              }
            ]
          }
        },
        "26c223f120c740b3afb37b545c9f6c41": {
          "model_module": "@jupyter-widgets/output",
          "model_module_version": "1.0.0",
          "model_name": "OutputModel",
          "state": {
            "_dom_classes": [],
            "_model_module": "@jupyter-widgets/output",
            "_model_module_version": "1.0.0",
            "_model_name": "OutputModel",
            "_view_count": null,
            "_view_module": "@jupyter-widgets/output",
            "_view_module_version": "1.0.0",
            "_view_name": "OutputView",
            "layout": "IPY_MODEL_89292cde28fa444a924865108355a20e",
            "msg_id": "",
            "outputs": [
              {
                "data": {
                  "text/html": "<pre style=\"white-space:pre;overflow-x:auto;line-height:normal;font-family:Menlo,'DejaVu Sans Mono',consolas,'Courier New',monospace\">                                                                                                                   \n <span style=\"font-weight: bold\"> Progress                  </span> <span style=\"font-weight: bold\"> Draws </span> <span style=\"font-weight: bold\"> Divergences </span> <span style=\"font-weight: bold\"> Step size </span> <span style=\"font-weight: bold\"> Grad evals </span> <span style=\"font-weight: bold\"> Sampling Speed </span> <span style=\"font-weight: bold\"> Elapsed </span> <span style=\"font-weight: bold\"> Remaining </span> \n ───────────────────────────────────────────────────────────────────────────────────────────────────────────────── \n  <span style=\"color: #1f77b4; text-decoration-color: #1f77b4\">━━━━━━━━━━━━━━━━━━━━━━━━━</span>   2000    0             0.18        3            100.19 draws/s   0:00:19   0:00:00    \n  <span style=\"color: #1f77b4; text-decoration-color: #1f77b4\">━━━━━━━━━━━━━━━━━━━━━━━━━</span>   2000    0             0.18        11           51.46 draws/s    0:00:38   0:00:00    \n                                                                                                                   \n</pre>\n",
                  "text/plain": "                                                                                                                   \n \u001b[1m \u001b[0m\u001b[1mProgress                 \u001b[0m\u001b[1m \u001b[0m \u001b[1m \u001b[0m\u001b[1mDraws\u001b[0m\u001b[1m \u001b[0m \u001b[1m \u001b[0m\u001b[1mDivergences\u001b[0m\u001b[1m \u001b[0m \u001b[1m \u001b[0m\u001b[1mStep size\u001b[0m\u001b[1m \u001b[0m \u001b[1m \u001b[0m\u001b[1mGrad evals\u001b[0m\u001b[1m \u001b[0m \u001b[1m \u001b[0m\u001b[1mSampling Speed\u001b[0m\u001b[1m \u001b[0m \u001b[1m \u001b[0m\u001b[1mElapsed\u001b[0m\u001b[1m \u001b[0m \u001b[1m \u001b[0m\u001b[1mRemaining\u001b[0m\u001b[1m \u001b[0m \n ───────────────────────────────────────────────────────────────────────────────────────────────────────────────── \n  \u001b[38;2;31;119;180m━━━━━━━━━━━━━━━━━━━━━━━━━\u001b[0m   2000    0             0.18        3            100.19 draws/s   0:00:19   0:00:00    \n  \u001b[38;2;31;119;180m━━━━━━━━━━━━━━━━━━━━━━━━━\u001b[0m   2000    0             0.18        11           51.46 draws/s    0:00:38   0:00:00    \n                                                                                                                   \n"
                },
                "metadata": {},
                "output_type": "display_data"
              }
            ]
          }
        },
        "89292cde28fa444a924865108355a20e": {
          "model_module": "@jupyter-widgets/base",
          "model_module_version": "1.2.0",
          "model_name": "LayoutModel",
          "state": {
            "_model_module": "@jupyter-widgets/base",
            "_model_module_version": "1.2.0",
            "_model_name": "LayoutModel",
            "_view_count": null,
            "_view_module": "@jupyter-widgets/base",
            "_view_module_version": "1.2.0",
            "_view_name": "LayoutView",
            "align_content": null,
            "align_items": null,
            "align_self": null,
            "border": null,
            "bottom": null,
            "display": null,
            "flex": null,
            "flex_flow": null,
            "grid_area": null,
            "grid_auto_columns": null,
            "grid_auto_flow": null,
            "grid_auto_rows": null,
            "grid_column": null,
            "grid_gap": null,
            "grid_row": null,
            "grid_template_areas": null,
            "grid_template_columns": null,
            "grid_template_rows": null,
            "height": null,
            "justify_content": null,
            "justify_items": null,
            "left": null,
            "margin": null,
            "max_height": null,
            "max_width": null,
            "min_height": null,
            "min_width": null,
            "object_fit": null,
            "object_position": null,
            "order": null,
            "overflow": null,
            "overflow_x": null,
            "overflow_y": null,
            "padding": null,
            "right": null,
            "top": null,
            "visibility": null,
            "width": null
          }
        },
        "f9dfea1ef2de4a3d8f87e05327ef8c98": {
          "model_module": "@jupyter-widgets/base",
          "model_module_version": "1.2.0",
          "model_name": "LayoutModel",
          "state": {
            "_model_module": "@jupyter-widgets/base",
            "_model_module_version": "1.2.0",
            "_model_name": "LayoutModel",
            "_view_count": null,
            "_view_module": "@jupyter-widgets/base",
            "_view_module_version": "1.2.0",
            "_view_name": "LayoutView",
            "align_content": null,
            "align_items": null,
            "align_self": null,
            "border": null,
            "bottom": null,
            "display": null,
            "flex": null,
            "flex_flow": null,
            "grid_area": null,
            "grid_auto_columns": null,
            "grid_auto_flow": null,
            "grid_auto_rows": null,
            "grid_column": null,
            "grid_gap": null,
            "grid_row": null,
            "grid_template_areas": null,
            "grid_template_columns": null,
            "grid_template_rows": null,
            "height": null,
            "justify_content": null,
            "justify_items": null,
            "left": null,
            "margin": null,
            "max_height": null,
            "max_width": null,
            "min_height": null,
            "min_width": null,
            "object_fit": null,
            "object_position": null,
            "order": null,
            "overflow": null,
            "overflow_x": null,
            "overflow_y": null,
            "padding": null,
            "right": null,
            "top": null,
            "visibility": null,
            "width": null
          }
        }
      }
    }
  },
  "nbformat": 4,
  "nbformat_minor": 0
}
